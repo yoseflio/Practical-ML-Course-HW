{
  "nbformat": 4,
  "nbformat_minor": 0,
  "metadata": {
    "colab": {
      "name": "tf basic regression (auto mpg).ipynb",
      "provenance": [],
      "collapsed_sections": [],
      "include_colab_link": true
    },
    "kernelspec": {
      "display_name": "Python 3",
      "name": "python3"
    }
  },
  "cells": [
    {
      "cell_type": "markdown",
      "metadata": {
        "id": "view-in-github",
        "colab_type": "text"
      },
      "source": [
        "<a href=\"https://colab.research.google.com/github/yoseflio/Practical-ML-Course-HW/blob/main/tf_basic_regression_(auto_mpg).ipynb\" target=\"_parent\"><img src=\"https://colab.research.google.com/assets/colab-badge.svg\" alt=\"Open In Colab\"/></a>"
      ]
    },
    {
      "cell_type": "markdown",
      "metadata": {
        "id": "EIdT9iu_Z4Rb"
      },
      "source": [
        "# Basic regression: Predict fuel efficiency"
      ]
    },
    {
      "cell_type": "markdown",
      "metadata": {
        "id": "AHp3M9ZmrIxj"
      },
      "source": [
        "In a *regression* problem, the aim is to predict the output of a continuous value, like a price or a probability. Contrast this with a *classification* problem, where the aim is to select a class from a list of classes (for example, where a picture contains an apple or an orange, recognizing which fruit is in the picture).\n",
        "\n",
        "This tutorial uses the classic [Auto MPG](https://archive.ics.uci.edu/ml/datasets/auto+mpg) dataset and demonstrates how to build models to predict the fuel efficiency of the late-1970s and early 1980s automobiles. To do this, you will provide the models with a description of many automobiles from that time period. This description includes attributes like cylinders, displacement, horsepower, and weight.\n",
        "\n",
        "This example uses the Keras API. (Visit the Keras [tutorials](https://www.tensorflow.org/tutorials/keras) and [guides](https://www.tensorflow.org/guide/keras) to learn more.)"
      ]
    },
    {
      "cell_type": "code",
      "metadata": {
        "id": "moB4tpEHxKB3"
      },
      "source": [
        "# Use seaborn for pairplot.\n",
        "# !pip install -q seaborn"
      ],
      "execution_count": null,
      "outputs": []
    },
    {
      "cell_type": "code",
      "metadata": {
        "id": "1rRo8oNqZ-Rj"
      },
      "source": [
        "import matplotlib.pyplot as plt\n",
        "import numpy as np\n",
        "import pandas as pd\n",
        "import seaborn as sns\n",
        "\n",
        "# Make NumPy printouts easier to read.\n",
        "np.set_printoptions(precision=3, suppress=True)"
      ],
      "execution_count": 1,
      "outputs": []
    },
    {
      "cell_type": "code",
      "source": [
        "plt.rcParams[\"figure.figsize\"] = (20,10)"
      ],
      "metadata": {
        "id": "YKJ-SkqfmULr"
      },
      "execution_count": 2,
      "outputs": []
    },
    {
      "cell_type": "code",
      "metadata": {
        "id": "9xQKvCJ85kCQ",
        "outputId": "67bdfe31-0a07-4b54-fd75-fcda43d08e58",
        "colab": {
          "base_uri": "https://localhost:8080/"
        }
      },
      "source": [
        "import tensorflow as tf\n",
        "\n",
        "from tensorflow import keras\n",
        "from tensorflow.keras import layers\n",
        "\n",
        "print(tf.__version__)"
      ],
      "execution_count": 3,
      "outputs": [
        {
          "output_type": "stream",
          "name": "stdout",
          "text": [
            "2.8.2\n"
          ]
        }
      ]
    },
    {
      "cell_type": "markdown",
      "metadata": {
        "id": "F_72b0LCNbjx"
      },
      "source": [
        "## The Auto MPG dataset\n",
        "\n",
        "The dataset is available from the [UCI Machine Learning Repository](https://archive.ics.uci.edu/ml/).\n"
      ]
    },
    {
      "cell_type": "markdown",
      "metadata": {
        "id": "gFh9ne3FZ-On"
      },
      "source": [
        "### Get the data\n",
        "First download and import the dataset using pandas:"
      ]
    },
    {
      "cell_type": "code",
      "metadata": {
        "id": "CiX2FI4gZtTt"
      },
      "source": [
        "url = 'http://archive.ics.uci.edu/ml/machine-learning-databases/auto-mpg/auto-mpg.data'\n",
        "column_names = ['MPG', 'Cylinders', 'Displacement', 'Horsepower', 'Weight',\n",
        "                'Acceleration', 'Model Year', 'Origin']\n",
        "\n",
        "raw_dataset = pd.read_csv(url, names=column_names,\n",
        "                          na_values='?', comment='\\t',\n",
        "                          sep=' ', skipinitialspace=True)"
      ],
      "execution_count": 4,
      "outputs": []
    },
    {
      "cell_type": "code",
      "metadata": {
        "id": "2oY3pMPagJrO",
        "outputId": "4917c86b-82d7-4230-f4f5-3c708b18e536",
        "colab": {
          "base_uri": "https://localhost:8080/",
          "height": 206
        }
      },
      "source": [
        "dataset = raw_dataset.copy()\n",
        "dataset.tail()"
      ],
      "execution_count": 5,
      "outputs": [
        {
          "output_type": "execute_result",
          "data": {
            "text/plain": [
              "      MPG  Cylinders  Displacement  Horsepower  Weight  Acceleration  \\\n",
              "393  27.0          4         140.0        86.0  2790.0          15.6   \n",
              "394  44.0          4          97.0        52.0  2130.0          24.6   \n",
              "395  32.0          4         135.0        84.0  2295.0          11.6   \n",
              "396  28.0          4         120.0        79.0  2625.0          18.6   \n",
              "397  31.0          4         119.0        82.0  2720.0          19.4   \n",
              "\n",
              "     Model Year  Origin  \n",
              "393          82       1  \n",
              "394          82       2  \n",
              "395          82       1  \n",
              "396          82       1  \n",
              "397          82       1  "
            ],
            "text/html": [
              "\n",
              "  <div id=\"df-143e7dab-17ec-4246-b2a7-85a15af33a52\">\n",
              "    <div class=\"colab-df-container\">\n",
              "      <div>\n",
              "<style scoped>\n",
              "    .dataframe tbody tr th:only-of-type {\n",
              "        vertical-align: middle;\n",
              "    }\n",
              "\n",
              "    .dataframe tbody tr th {\n",
              "        vertical-align: top;\n",
              "    }\n",
              "\n",
              "    .dataframe thead th {\n",
              "        text-align: right;\n",
              "    }\n",
              "</style>\n",
              "<table border=\"1\" class=\"dataframe\">\n",
              "  <thead>\n",
              "    <tr style=\"text-align: right;\">\n",
              "      <th></th>\n",
              "      <th>MPG</th>\n",
              "      <th>Cylinders</th>\n",
              "      <th>Displacement</th>\n",
              "      <th>Horsepower</th>\n",
              "      <th>Weight</th>\n",
              "      <th>Acceleration</th>\n",
              "      <th>Model Year</th>\n",
              "      <th>Origin</th>\n",
              "    </tr>\n",
              "  </thead>\n",
              "  <tbody>\n",
              "    <tr>\n",
              "      <th>393</th>\n",
              "      <td>27.0</td>\n",
              "      <td>4</td>\n",
              "      <td>140.0</td>\n",
              "      <td>86.0</td>\n",
              "      <td>2790.0</td>\n",
              "      <td>15.6</td>\n",
              "      <td>82</td>\n",
              "      <td>1</td>\n",
              "    </tr>\n",
              "    <tr>\n",
              "      <th>394</th>\n",
              "      <td>44.0</td>\n",
              "      <td>4</td>\n",
              "      <td>97.0</td>\n",
              "      <td>52.0</td>\n",
              "      <td>2130.0</td>\n",
              "      <td>24.6</td>\n",
              "      <td>82</td>\n",
              "      <td>2</td>\n",
              "    </tr>\n",
              "    <tr>\n",
              "      <th>395</th>\n",
              "      <td>32.0</td>\n",
              "      <td>4</td>\n",
              "      <td>135.0</td>\n",
              "      <td>84.0</td>\n",
              "      <td>2295.0</td>\n",
              "      <td>11.6</td>\n",
              "      <td>82</td>\n",
              "      <td>1</td>\n",
              "    </tr>\n",
              "    <tr>\n",
              "      <th>396</th>\n",
              "      <td>28.0</td>\n",
              "      <td>4</td>\n",
              "      <td>120.0</td>\n",
              "      <td>79.0</td>\n",
              "      <td>2625.0</td>\n",
              "      <td>18.6</td>\n",
              "      <td>82</td>\n",
              "      <td>1</td>\n",
              "    </tr>\n",
              "    <tr>\n",
              "      <th>397</th>\n",
              "      <td>31.0</td>\n",
              "      <td>4</td>\n",
              "      <td>119.0</td>\n",
              "      <td>82.0</td>\n",
              "      <td>2720.0</td>\n",
              "      <td>19.4</td>\n",
              "      <td>82</td>\n",
              "      <td>1</td>\n",
              "    </tr>\n",
              "  </tbody>\n",
              "</table>\n",
              "</div>\n",
              "      <button class=\"colab-df-convert\" onclick=\"convertToInteractive('df-143e7dab-17ec-4246-b2a7-85a15af33a52')\"\n",
              "              title=\"Convert this dataframe to an interactive table.\"\n",
              "              style=\"display:none;\">\n",
              "        \n",
              "  <svg xmlns=\"http://www.w3.org/2000/svg\" height=\"24px\"viewBox=\"0 0 24 24\"\n",
              "       width=\"24px\">\n",
              "    <path d=\"M0 0h24v24H0V0z\" fill=\"none\"/>\n",
              "    <path d=\"M18.56 5.44l.94 2.06.94-2.06 2.06-.94-2.06-.94-.94-2.06-.94 2.06-2.06.94zm-11 1L8.5 8.5l.94-2.06 2.06-.94-2.06-.94L8.5 2.5l-.94 2.06-2.06.94zm10 10l.94 2.06.94-2.06 2.06-.94-2.06-.94-.94-2.06-.94 2.06-2.06.94z\"/><path d=\"M17.41 7.96l-1.37-1.37c-.4-.4-.92-.59-1.43-.59-.52 0-1.04.2-1.43.59L10.3 9.45l-7.72 7.72c-.78.78-.78 2.05 0 2.83L4 21.41c.39.39.9.59 1.41.59.51 0 1.02-.2 1.41-.59l7.78-7.78 2.81-2.81c.8-.78.8-2.07 0-2.86zM5.41 20L4 18.59l7.72-7.72 1.47 1.35L5.41 20z\"/>\n",
              "  </svg>\n",
              "      </button>\n",
              "      \n",
              "  <style>\n",
              "    .colab-df-container {\n",
              "      display:flex;\n",
              "      flex-wrap:wrap;\n",
              "      gap: 12px;\n",
              "    }\n",
              "\n",
              "    .colab-df-convert {\n",
              "      background-color: #E8F0FE;\n",
              "      border: none;\n",
              "      border-radius: 50%;\n",
              "      cursor: pointer;\n",
              "      display: none;\n",
              "      fill: #1967D2;\n",
              "      height: 32px;\n",
              "      padding: 0 0 0 0;\n",
              "      width: 32px;\n",
              "    }\n",
              "\n",
              "    .colab-df-convert:hover {\n",
              "      background-color: #E2EBFA;\n",
              "      box-shadow: 0px 1px 2px rgba(60, 64, 67, 0.3), 0px 1px 3px 1px rgba(60, 64, 67, 0.15);\n",
              "      fill: #174EA6;\n",
              "    }\n",
              "\n",
              "    [theme=dark] .colab-df-convert {\n",
              "      background-color: #3B4455;\n",
              "      fill: #D2E3FC;\n",
              "    }\n",
              "\n",
              "    [theme=dark] .colab-df-convert:hover {\n",
              "      background-color: #434B5C;\n",
              "      box-shadow: 0px 1px 3px 1px rgba(0, 0, 0, 0.15);\n",
              "      filter: drop-shadow(0px 1px 2px rgba(0, 0, 0, 0.3));\n",
              "      fill: #FFFFFF;\n",
              "    }\n",
              "  </style>\n",
              "\n",
              "      <script>\n",
              "        const buttonEl =\n",
              "          document.querySelector('#df-143e7dab-17ec-4246-b2a7-85a15af33a52 button.colab-df-convert');\n",
              "        buttonEl.style.display =\n",
              "          google.colab.kernel.accessAllowed ? 'block' : 'none';\n",
              "\n",
              "        async function convertToInteractive(key) {\n",
              "          const element = document.querySelector('#df-143e7dab-17ec-4246-b2a7-85a15af33a52');\n",
              "          const dataTable =\n",
              "            await google.colab.kernel.invokeFunction('convertToInteractive',\n",
              "                                                     [key], {});\n",
              "          if (!dataTable) return;\n",
              "\n",
              "          const docLinkHtml = 'Like what you see? Visit the ' +\n",
              "            '<a target=\"_blank\" href=https://colab.research.google.com/notebooks/data_table.ipynb>data table notebook</a>'\n",
              "            + ' to learn more about interactive tables.';\n",
              "          element.innerHTML = '';\n",
              "          dataTable['output_type'] = 'display_data';\n",
              "          await google.colab.output.renderOutput(dataTable, element);\n",
              "          const docLink = document.createElement('div');\n",
              "          docLink.innerHTML = docLinkHtml;\n",
              "          element.appendChild(docLink);\n",
              "        }\n",
              "      </script>\n",
              "    </div>\n",
              "  </div>\n",
              "  "
            ]
          },
          "metadata": {},
          "execution_count": 5
        }
      ]
    },
    {
      "cell_type": "markdown",
      "metadata": {
        "id": "3MWuJTKEDM-f"
      },
      "source": [
        "### Clean the data\n",
        "\n",
        "The dataset contains a few unknown values:"
      ]
    },
    {
      "cell_type": "code",
      "metadata": {
        "id": "JEJHhN65a2VV",
        "outputId": "c544194b-25f8-42b9-f95d-0f726fae2363",
        "colab": {
          "base_uri": "https://localhost:8080/"
        }
      },
      "source": [
        "dataset.isna().sum()"
      ],
      "execution_count": 6,
      "outputs": [
        {
          "output_type": "execute_result",
          "data": {
            "text/plain": [
              "MPG             0\n",
              "Cylinders       0\n",
              "Displacement    0\n",
              "Horsepower      6\n",
              "Weight          0\n",
              "Acceleration    0\n",
              "Model Year      0\n",
              "Origin          0\n",
              "dtype: int64"
            ]
          },
          "metadata": {},
          "execution_count": 6
        }
      ]
    },
    {
      "cell_type": "markdown",
      "metadata": {
        "id": "9UPN0KBHa_WI"
      },
      "source": [
        "Drop those rows to keep this initial tutorial simple:"
      ]
    },
    {
      "cell_type": "code",
      "metadata": {
        "id": "4ZUDosChC1UN"
      },
      "source": [
        "dataset = dataset.dropna()"
      ],
      "execution_count": 7,
      "outputs": []
    },
    {
      "cell_type": "markdown",
      "metadata": {
        "id": "8XKitwaH4v8h"
      },
      "source": [
        "The `\"Origin\"` column is categorical, not numeric. So the next step is to one-hot encode the values in the column with [pd.get_dummies](https://pandas.pydata.org/docs/reference/api/pandas.get_dummies.html).\n",
        "\n",
        "Note: You can set up the `tf.keras.Model` to do this kind of transformation for you but that's beyond the scope of this tutorial. Check out the [Classify structured data using Keras preprocessing layers](../structured_data/preprocessing_layers.ipynb) or [Load CSV data](../load_data/csv.ipynb) tutorials for examples."
      ]
    },
    {
      "cell_type": "code",
      "metadata": {
        "id": "gWNTD2QjBWFJ"
      },
      "source": [
        "dataset['Origin'] = dataset['Origin'].map({1: 'USA', 2: 'Europe', 3: 'Japan'})"
      ],
      "execution_count": 8,
      "outputs": []
    },
    {
      "cell_type": "code",
      "metadata": {
        "id": "ulXz4J7PAUzk",
        "outputId": "f78d80c4-edf2-4aca-b7b4-e9943411b85c",
        "colab": {
          "base_uri": "https://localhost:8080/",
          "height": 206
        }
      },
      "source": [
        "dataset = pd.get_dummies(dataset, columns=['Origin'], prefix='', prefix_sep='')\n",
        "dataset.tail()"
      ],
      "execution_count": 9,
      "outputs": [
        {
          "output_type": "execute_result",
          "data": {
            "text/plain": [
              "      MPG  Cylinders  Displacement  Horsepower  Weight  Acceleration  \\\n",
              "393  27.0          4         140.0        86.0  2790.0          15.6   \n",
              "394  44.0          4          97.0        52.0  2130.0          24.6   \n",
              "395  32.0          4         135.0        84.0  2295.0          11.6   \n",
              "396  28.0          4         120.0        79.0  2625.0          18.6   \n",
              "397  31.0          4         119.0        82.0  2720.0          19.4   \n",
              "\n",
              "     Model Year  Europe  Japan  USA  \n",
              "393          82       0      0    1  \n",
              "394          82       1      0    0  \n",
              "395          82       0      0    1  \n",
              "396          82       0      0    1  \n",
              "397          82       0      0    1  "
            ],
            "text/html": [
              "\n",
              "  <div id=\"df-dcc186d2-296b-4065-8e34-c73e7c38a080\">\n",
              "    <div class=\"colab-df-container\">\n",
              "      <div>\n",
              "<style scoped>\n",
              "    .dataframe tbody tr th:only-of-type {\n",
              "        vertical-align: middle;\n",
              "    }\n",
              "\n",
              "    .dataframe tbody tr th {\n",
              "        vertical-align: top;\n",
              "    }\n",
              "\n",
              "    .dataframe thead th {\n",
              "        text-align: right;\n",
              "    }\n",
              "</style>\n",
              "<table border=\"1\" class=\"dataframe\">\n",
              "  <thead>\n",
              "    <tr style=\"text-align: right;\">\n",
              "      <th></th>\n",
              "      <th>MPG</th>\n",
              "      <th>Cylinders</th>\n",
              "      <th>Displacement</th>\n",
              "      <th>Horsepower</th>\n",
              "      <th>Weight</th>\n",
              "      <th>Acceleration</th>\n",
              "      <th>Model Year</th>\n",
              "      <th>Europe</th>\n",
              "      <th>Japan</th>\n",
              "      <th>USA</th>\n",
              "    </tr>\n",
              "  </thead>\n",
              "  <tbody>\n",
              "    <tr>\n",
              "      <th>393</th>\n",
              "      <td>27.0</td>\n",
              "      <td>4</td>\n",
              "      <td>140.0</td>\n",
              "      <td>86.0</td>\n",
              "      <td>2790.0</td>\n",
              "      <td>15.6</td>\n",
              "      <td>82</td>\n",
              "      <td>0</td>\n",
              "      <td>0</td>\n",
              "      <td>1</td>\n",
              "    </tr>\n",
              "    <tr>\n",
              "      <th>394</th>\n",
              "      <td>44.0</td>\n",
              "      <td>4</td>\n",
              "      <td>97.0</td>\n",
              "      <td>52.0</td>\n",
              "      <td>2130.0</td>\n",
              "      <td>24.6</td>\n",
              "      <td>82</td>\n",
              "      <td>1</td>\n",
              "      <td>0</td>\n",
              "      <td>0</td>\n",
              "    </tr>\n",
              "    <tr>\n",
              "      <th>395</th>\n",
              "      <td>32.0</td>\n",
              "      <td>4</td>\n",
              "      <td>135.0</td>\n",
              "      <td>84.0</td>\n",
              "      <td>2295.0</td>\n",
              "      <td>11.6</td>\n",
              "      <td>82</td>\n",
              "      <td>0</td>\n",
              "      <td>0</td>\n",
              "      <td>1</td>\n",
              "    </tr>\n",
              "    <tr>\n",
              "      <th>396</th>\n",
              "      <td>28.0</td>\n",
              "      <td>4</td>\n",
              "      <td>120.0</td>\n",
              "      <td>79.0</td>\n",
              "      <td>2625.0</td>\n",
              "      <td>18.6</td>\n",
              "      <td>82</td>\n",
              "      <td>0</td>\n",
              "      <td>0</td>\n",
              "      <td>1</td>\n",
              "    </tr>\n",
              "    <tr>\n",
              "      <th>397</th>\n",
              "      <td>31.0</td>\n",
              "      <td>4</td>\n",
              "      <td>119.0</td>\n",
              "      <td>82.0</td>\n",
              "      <td>2720.0</td>\n",
              "      <td>19.4</td>\n",
              "      <td>82</td>\n",
              "      <td>0</td>\n",
              "      <td>0</td>\n",
              "      <td>1</td>\n",
              "    </tr>\n",
              "  </tbody>\n",
              "</table>\n",
              "</div>\n",
              "      <button class=\"colab-df-convert\" onclick=\"convertToInteractive('df-dcc186d2-296b-4065-8e34-c73e7c38a080')\"\n",
              "              title=\"Convert this dataframe to an interactive table.\"\n",
              "              style=\"display:none;\">\n",
              "        \n",
              "  <svg xmlns=\"http://www.w3.org/2000/svg\" height=\"24px\"viewBox=\"0 0 24 24\"\n",
              "       width=\"24px\">\n",
              "    <path d=\"M0 0h24v24H0V0z\" fill=\"none\"/>\n",
              "    <path d=\"M18.56 5.44l.94 2.06.94-2.06 2.06-.94-2.06-.94-.94-2.06-.94 2.06-2.06.94zm-11 1L8.5 8.5l.94-2.06 2.06-.94-2.06-.94L8.5 2.5l-.94 2.06-2.06.94zm10 10l.94 2.06.94-2.06 2.06-.94-2.06-.94-.94-2.06-.94 2.06-2.06.94z\"/><path d=\"M17.41 7.96l-1.37-1.37c-.4-.4-.92-.59-1.43-.59-.52 0-1.04.2-1.43.59L10.3 9.45l-7.72 7.72c-.78.78-.78 2.05 0 2.83L4 21.41c.39.39.9.59 1.41.59.51 0 1.02-.2 1.41-.59l7.78-7.78 2.81-2.81c.8-.78.8-2.07 0-2.86zM5.41 20L4 18.59l7.72-7.72 1.47 1.35L5.41 20z\"/>\n",
              "  </svg>\n",
              "      </button>\n",
              "      \n",
              "  <style>\n",
              "    .colab-df-container {\n",
              "      display:flex;\n",
              "      flex-wrap:wrap;\n",
              "      gap: 12px;\n",
              "    }\n",
              "\n",
              "    .colab-df-convert {\n",
              "      background-color: #E8F0FE;\n",
              "      border: none;\n",
              "      border-radius: 50%;\n",
              "      cursor: pointer;\n",
              "      display: none;\n",
              "      fill: #1967D2;\n",
              "      height: 32px;\n",
              "      padding: 0 0 0 0;\n",
              "      width: 32px;\n",
              "    }\n",
              "\n",
              "    .colab-df-convert:hover {\n",
              "      background-color: #E2EBFA;\n",
              "      box-shadow: 0px 1px 2px rgba(60, 64, 67, 0.3), 0px 1px 3px 1px rgba(60, 64, 67, 0.15);\n",
              "      fill: #174EA6;\n",
              "    }\n",
              "\n",
              "    [theme=dark] .colab-df-convert {\n",
              "      background-color: #3B4455;\n",
              "      fill: #D2E3FC;\n",
              "    }\n",
              "\n",
              "    [theme=dark] .colab-df-convert:hover {\n",
              "      background-color: #434B5C;\n",
              "      box-shadow: 0px 1px 3px 1px rgba(0, 0, 0, 0.15);\n",
              "      filter: drop-shadow(0px 1px 2px rgba(0, 0, 0, 0.3));\n",
              "      fill: #FFFFFF;\n",
              "    }\n",
              "  </style>\n",
              "\n",
              "      <script>\n",
              "        const buttonEl =\n",
              "          document.querySelector('#df-dcc186d2-296b-4065-8e34-c73e7c38a080 button.colab-df-convert');\n",
              "        buttonEl.style.display =\n",
              "          google.colab.kernel.accessAllowed ? 'block' : 'none';\n",
              "\n",
              "        async function convertToInteractive(key) {\n",
              "          const element = document.querySelector('#df-dcc186d2-296b-4065-8e34-c73e7c38a080');\n",
              "          const dataTable =\n",
              "            await google.colab.kernel.invokeFunction('convertToInteractive',\n",
              "                                                     [key], {});\n",
              "          if (!dataTable) return;\n",
              "\n",
              "          const docLinkHtml = 'Like what you see? Visit the ' +\n",
              "            '<a target=\"_blank\" href=https://colab.research.google.com/notebooks/data_table.ipynb>data table notebook</a>'\n",
              "            + ' to learn more about interactive tables.';\n",
              "          element.innerHTML = '';\n",
              "          dataTable['output_type'] = 'display_data';\n",
              "          await google.colab.output.renderOutput(dataTable, element);\n",
              "          const docLink = document.createElement('div');\n",
              "          docLink.innerHTML = docLinkHtml;\n",
              "          element.appendChild(docLink);\n",
              "        }\n",
              "      </script>\n",
              "    </div>\n",
              "  </div>\n",
              "  "
            ]
          },
          "metadata": {},
          "execution_count": 9
        }
      ]
    },
    {
      "cell_type": "markdown",
      "metadata": {
        "id": "Cuym4yvk76vU"
      },
      "source": [
        "### Split the data into training and test sets\n",
        "\n",
        "Now, split the dataset into a training set and a test set. You will use the test set in the final evaluation of your models."
      ]
    },
    {
      "cell_type": "code",
      "metadata": {
        "id": "qn-IGhUE7_1H"
      },
      "source": [
        "train_dataset = dataset.sample(frac=0.8, random_state=0)\n",
        "test_dataset = dataset.drop(train_dataset.index)"
      ],
      "execution_count": 10,
      "outputs": []
    },
    {
      "cell_type": "code",
      "source": [
        "train_dataset"
      ],
      "metadata": {
        "id": "VY0_AY6IG5fo",
        "outputId": "c10adf12-cbe1-432a-ad18-60739b6becac",
        "colab": {
          "base_uri": "https://localhost:8080/",
          "height": 424
        }
      },
      "execution_count": 11,
      "outputs": [
        {
          "output_type": "execute_result",
          "data": {
            "text/plain": [
              "      MPG  Cylinders  Displacement  Horsepower  Weight  Acceleration  \\\n",
              "146  28.0          4          90.0        75.0  2125.0          14.5   \n",
              "282  22.3          4         140.0        88.0  2890.0          17.3   \n",
              "69   12.0          8         350.0       160.0  4456.0          13.5   \n",
              "378  38.0          4         105.0        63.0  2125.0          14.7   \n",
              "331  33.8          4          97.0        67.0  2145.0          18.0   \n",
              "..    ...        ...           ...         ...     ...           ...   \n",
              "281  19.8          6         200.0        85.0  2990.0          18.2   \n",
              "229  16.0          8         400.0       180.0  4220.0          11.1   \n",
              "150  26.0          4         108.0        93.0  2391.0          15.5   \n",
              "145  32.0          4          83.0        61.0  2003.0          19.0   \n",
              "182  28.0          4         107.0        86.0  2464.0          15.5   \n",
              "\n",
              "     Model Year  Europe  Japan  USA  \n",
              "146          74       0      0    1  \n",
              "282          79       0      0    1  \n",
              "69           72       0      0    1  \n",
              "378          82       0      0    1  \n",
              "331          80       0      1    0  \n",
              "..          ...     ...    ...  ...  \n",
              "281          79       0      0    1  \n",
              "229          77       0      0    1  \n",
              "150          74       0      1    0  \n",
              "145          74       0      1    0  \n",
              "182          76       1      0    0  \n",
              "\n",
              "[314 rows x 10 columns]"
            ],
            "text/html": [
              "\n",
              "  <div id=\"df-4a8a3203-3564-4b78-b772-a7f1b6b45a3e\">\n",
              "    <div class=\"colab-df-container\">\n",
              "      <div>\n",
              "<style scoped>\n",
              "    .dataframe tbody tr th:only-of-type {\n",
              "        vertical-align: middle;\n",
              "    }\n",
              "\n",
              "    .dataframe tbody tr th {\n",
              "        vertical-align: top;\n",
              "    }\n",
              "\n",
              "    .dataframe thead th {\n",
              "        text-align: right;\n",
              "    }\n",
              "</style>\n",
              "<table border=\"1\" class=\"dataframe\">\n",
              "  <thead>\n",
              "    <tr style=\"text-align: right;\">\n",
              "      <th></th>\n",
              "      <th>MPG</th>\n",
              "      <th>Cylinders</th>\n",
              "      <th>Displacement</th>\n",
              "      <th>Horsepower</th>\n",
              "      <th>Weight</th>\n",
              "      <th>Acceleration</th>\n",
              "      <th>Model Year</th>\n",
              "      <th>Europe</th>\n",
              "      <th>Japan</th>\n",
              "      <th>USA</th>\n",
              "    </tr>\n",
              "  </thead>\n",
              "  <tbody>\n",
              "    <tr>\n",
              "      <th>146</th>\n",
              "      <td>28.0</td>\n",
              "      <td>4</td>\n",
              "      <td>90.0</td>\n",
              "      <td>75.0</td>\n",
              "      <td>2125.0</td>\n",
              "      <td>14.5</td>\n",
              "      <td>74</td>\n",
              "      <td>0</td>\n",
              "      <td>0</td>\n",
              "      <td>1</td>\n",
              "    </tr>\n",
              "    <tr>\n",
              "      <th>282</th>\n",
              "      <td>22.3</td>\n",
              "      <td>4</td>\n",
              "      <td>140.0</td>\n",
              "      <td>88.0</td>\n",
              "      <td>2890.0</td>\n",
              "      <td>17.3</td>\n",
              "      <td>79</td>\n",
              "      <td>0</td>\n",
              "      <td>0</td>\n",
              "      <td>1</td>\n",
              "    </tr>\n",
              "    <tr>\n",
              "      <th>69</th>\n",
              "      <td>12.0</td>\n",
              "      <td>8</td>\n",
              "      <td>350.0</td>\n",
              "      <td>160.0</td>\n",
              "      <td>4456.0</td>\n",
              "      <td>13.5</td>\n",
              "      <td>72</td>\n",
              "      <td>0</td>\n",
              "      <td>0</td>\n",
              "      <td>1</td>\n",
              "    </tr>\n",
              "    <tr>\n",
              "      <th>378</th>\n",
              "      <td>38.0</td>\n",
              "      <td>4</td>\n",
              "      <td>105.0</td>\n",
              "      <td>63.0</td>\n",
              "      <td>2125.0</td>\n",
              "      <td>14.7</td>\n",
              "      <td>82</td>\n",
              "      <td>0</td>\n",
              "      <td>0</td>\n",
              "      <td>1</td>\n",
              "    </tr>\n",
              "    <tr>\n",
              "      <th>331</th>\n",
              "      <td>33.8</td>\n",
              "      <td>4</td>\n",
              "      <td>97.0</td>\n",
              "      <td>67.0</td>\n",
              "      <td>2145.0</td>\n",
              "      <td>18.0</td>\n",
              "      <td>80</td>\n",
              "      <td>0</td>\n",
              "      <td>1</td>\n",
              "      <td>0</td>\n",
              "    </tr>\n",
              "    <tr>\n",
              "      <th>...</th>\n",
              "      <td>...</td>\n",
              "      <td>...</td>\n",
              "      <td>...</td>\n",
              "      <td>...</td>\n",
              "      <td>...</td>\n",
              "      <td>...</td>\n",
              "      <td>...</td>\n",
              "      <td>...</td>\n",
              "      <td>...</td>\n",
              "      <td>...</td>\n",
              "    </tr>\n",
              "    <tr>\n",
              "      <th>281</th>\n",
              "      <td>19.8</td>\n",
              "      <td>6</td>\n",
              "      <td>200.0</td>\n",
              "      <td>85.0</td>\n",
              "      <td>2990.0</td>\n",
              "      <td>18.2</td>\n",
              "      <td>79</td>\n",
              "      <td>0</td>\n",
              "      <td>0</td>\n",
              "      <td>1</td>\n",
              "    </tr>\n",
              "    <tr>\n",
              "      <th>229</th>\n",
              "      <td>16.0</td>\n",
              "      <td>8</td>\n",
              "      <td>400.0</td>\n",
              "      <td>180.0</td>\n",
              "      <td>4220.0</td>\n",
              "      <td>11.1</td>\n",
              "      <td>77</td>\n",
              "      <td>0</td>\n",
              "      <td>0</td>\n",
              "      <td>1</td>\n",
              "    </tr>\n",
              "    <tr>\n",
              "      <th>150</th>\n",
              "      <td>26.0</td>\n",
              "      <td>4</td>\n",
              "      <td>108.0</td>\n",
              "      <td>93.0</td>\n",
              "      <td>2391.0</td>\n",
              "      <td>15.5</td>\n",
              "      <td>74</td>\n",
              "      <td>0</td>\n",
              "      <td>1</td>\n",
              "      <td>0</td>\n",
              "    </tr>\n",
              "    <tr>\n",
              "      <th>145</th>\n",
              "      <td>32.0</td>\n",
              "      <td>4</td>\n",
              "      <td>83.0</td>\n",
              "      <td>61.0</td>\n",
              "      <td>2003.0</td>\n",
              "      <td>19.0</td>\n",
              "      <td>74</td>\n",
              "      <td>0</td>\n",
              "      <td>1</td>\n",
              "      <td>0</td>\n",
              "    </tr>\n",
              "    <tr>\n",
              "      <th>182</th>\n",
              "      <td>28.0</td>\n",
              "      <td>4</td>\n",
              "      <td>107.0</td>\n",
              "      <td>86.0</td>\n",
              "      <td>2464.0</td>\n",
              "      <td>15.5</td>\n",
              "      <td>76</td>\n",
              "      <td>1</td>\n",
              "      <td>0</td>\n",
              "      <td>0</td>\n",
              "    </tr>\n",
              "  </tbody>\n",
              "</table>\n",
              "<p>314 rows × 10 columns</p>\n",
              "</div>\n",
              "      <button class=\"colab-df-convert\" onclick=\"convertToInteractive('df-4a8a3203-3564-4b78-b772-a7f1b6b45a3e')\"\n",
              "              title=\"Convert this dataframe to an interactive table.\"\n",
              "              style=\"display:none;\">\n",
              "        \n",
              "  <svg xmlns=\"http://www.w3.org/2000/svg\" height=\"24px\"viewBox=\"0 0 24 24\"\n",
              "       width=\"24px\">\n",
              "    <path d=\"M0 0h24v24H0V0z\" fill=\"none\"/>\n",
              "    <path d=\"M18.56 5.44l.94 2.06.94-2.06 2.06-.94-2.06-.94-.94-2.06-.94 2.06-2.06.94zm-11 1L8.5 8.5l.94-2.06 2.06-.94-2.06-.94L8.5 2.5l-.94 2.06-2.06.94zm10 10l.94 2.06.94-2.06 2.06-.94-2.06-.94-.94-2.06-.94 2.06-2.06.94z\"/><path d=\"M17.41 7.96l-1.37-1.37c-.4-.4-.92-.59-1.43-.59-.52 0-1.04.2-1.43.59L10.3 9.45l-7.72 7.72c-.78.78-.78 2.05 0 2.83L4 21.41c.39.39.9.59 1.41.59.51 0 1.02-.2 1.41-.59l7.78-7.78 2.81-2.81c.8-.78.8-2.07 0-2.86zM5.41 20L4 18.59l7.72-7.72 1.47 1.35L5.41 20z\"/>\n",
              "  </svg>\n",
              "      </button>\n",
              "      \n",
              "  <style>\n",
              "    .colab-df-container {\n",
              "      display:flex;\n",
              "      flex-wrap:wrap;\n",
              "      gap: 12px;\n",
              "    }\n",
              "\n",
              "    .colab-df-convert {\n",
              "      background-color: #E8F0FE;\n",
              "      border: none;\n",
              "      border-radius: 50%;\n",
              "      cursor: pointer;\n",
              "      display: none;\n",
              "      fill: #1967D2;\n",
              "      height: 32px;\n",
              "      padding: 0 0 0 0;\n",
              "      width: 32px;\n",
              "    }\n",
              "\n",
              "    .colab-df-convert:hover {\n",
              "      background-color: #E2EBFA;\n",
              "      box-shadow: 0px 1px 2px rgba(60, 64, 67, 0.3), 0px 1px 3px 1px rgba(60, 64, 67, 0.15);\n",
              "      fill: #174EA6;\n",
              "    }\n",
              "\n",
              "    [theme=dark] .colab-df-convert {\n",
              "      background-color: #3B4455;\n",
              "      fill: #D2E3FC;\n",
              "    }\n",
              "\n",
              "    [theme=dark] .colab-df-convert:hover {\n",
              "      background-color: #434B5C;\n",
              "      box-shadow: 0px 1px 3px 1px rgba(0, 0, 0, 0.15);\n",
              "      filter: drop-shadow(0px 1px 2px rgba(0, 0, 0, 0.3));\n",
              "      fill: #FFFFFF;\n",
              "    }\n",
              "  </style>\n",
              "\n",
              "      <script>\n",
              "        const buttonEl =\n",
              "          document.querySelector('#df-4a8a3203-3564-4b78-b772-a7f1b6b45a3e button.colab-df-convert');\n",
              "        buttonEl.style.display =\n",
              "          google.colab.kernel.accessAllowed ? 'block' : 'none';\n",
              "\n",
              "        async function convertToInteractive(key) {\n",
              "          const element = document.querySelector('#df-4a8a3203-3564-4b78-b772-a7f1b6b45a3e');\n",
              "          const dataTable =\n",
              "            await google.colab.kernel.invokeFunction('convertToInteractive',\n",
              "                                                     [key], {});\n",
              "          if (!dataTable) return;\n",
              "\n",
              "          const docLinkHtml = 'Like what you see? Visit the ' +\n",
              "            '<a target=\"_blank\" href=https://colab.research.google.com/notebooks/data_table.ipynb>data table notebook</a>'\n",
              "            + ' to learn more about interactive tables.';\n",
              "          element.innerHTML = '';\n",
              "          dataTable['output_type'] = 'display_data';\n",
              "          await google.colab.output.renderOutput(dataTable, element);\n",
              "          const docLink = document.createElement('div');\n",
              "          docLink.innerHTML = docLinkHtml;\n",
              "          element.appendChild(docLink);\n",
              "        }\n",
              "      </script>\n",
              "    </div>\n",
              "  </div>\n",
              "  "
            ]
          },
          "metadata": {},
          "execution_count": 11
        }
      ]
    },
    {
      "cell_type": "markdown",
      "metadata": {
        "id": "J4ubs136WLNp"
      },
      "source": [
        "### Inspect the data\n",
        "\n",
        "Review the joint distribution of a few pairs of columns from the training set.\n",
        "\n",
        "The top row suggests that the fuel efficiency (MPG) is a function of all the other parameters. The other rows indicate they are functions of each other."
      ]
    },
    {
      "cell_type": "code",
      "metadata": {
        "id": "oRKO_x8gWKv-",
        "outputId": "9162dbd9-6739-412c-9299-44f35128918b",
        "colab": {
          "base_uri": "https://localhost:8080/",
          "height": 743
        }
      },
      "source": [
        "sns.pairplot(train_dataset[['MPG', 'Cylinders', 'Displacement', 'Weight']], diag_kind='kde')"
      ],
      "execution_count": 12,
      "outputs": [
        {
          "output_type": "execute_result",
          "data": {
            "text/plain": [
              "<seaborn.axisgrid.PairGrid at 0x7f2282286a50>"
            ]
          },
          "metadata": {},
          "execution_count": 12
        },
        {
          "output_type": "display_data",
          "data": {
            "text/plain": [
              "<Figure size 720x720 with 20 Axes>"
            ],
            "image/png": "[encoded data removed]"
          },
          "metadata": {
            "needs_background": "light"
          }
        }
      ]
    },
    {
      "cell_type": "markdown",
      "metadata": {
        "id": "gavKO_6DWRMP"
      },
      "source": [
        "Let's also check the overall statistics. Note how each feature covers a very different range:"
      ]
    },
    {
      "cell_type": "code",
      "metadata": {
        "id": "yi2FzC3T21jR",
        "outputId": "ab601f78-d2b1-4cfd-da6d-3763d73b0604",
        "colab": {
          "base_uri": "https://localhost:8080/",
          "height": 363
        }
      },
      "source": [
        "train_dataset.describe().transpose()"
      ],
      "execution_count": 13,
      "outputs": [
        {
          "output_type": "execute_result",
          "data": {
            "text/plain": [
              "              count         mean         std     min      25%     50%  \\\n",
              "MPG           314.0    23.310510    7.728652    10.0    17.00    22.0   \n",
              "Cylinders     314.0     5.477707    1.699788     3.0     4.00     4.0   \n",
              "Displacement  314.0   195.318471  104.331589    68.0   105.50   151.0   \n",
              "Horsepower    314.0   104.869427   38.096214    46.0    76.25    94.5   \n",
              "Weight        314.0  2990.251592  843.898596  1649.0  2256.50  2822.5   \n",
              "Acceleration  314.0    15.559236    2.789230     8.0    13.80    15.5   \n",
              "Model Year    314.0    75.898089    3.675642    70.0    73.00    76.0   \n",
              "Europe        314.0     0.178344    0.383413     0.0     0.00     0.0   \n",
              "Japan         314.0     0.197452    0.398712     0.0     0.00     0.0   \n",
              "USA           314.0     0.624204    0.485101     0.0     0.00     1.0   \n",
              "\n",
              "                  75%     max  \n",
              "MPG             28.95    46.6  \n",
              "Cylinders        8.00     8.0  \n",
              "Displacement   265.75   455.0  \n",
              "Horsepower     128.00   225.0  \n",
              "Weight        3608.00  5140.0  \n",
              "Acceleration    17.20    24.8  \n",
              "Model Year      79.00    82.0  \n",
              "Europe           0.00     1.0  \n",
              "Japan            0.00     1.0  \n",
              "USA              1.00     1.0  "
            ],
            "text/html": [
              "\n",
              "  <div id=\"df-e6e2745d-7198-4fa1-a8d3-3dac90c48d8a\">\n",
              "    <div class=\"colab-df-container\">\n",
              "      <div>\n",
              "<style scoped>\n",
              "    .dataframe tbody tr th:only-of-type {\n",
              "        vertical-align: middle;\n",
              "    }\n",
              "\n",
              "    .dataframe tbody tr th {\n",
              "        vertical-align: top;\n",
              "    }\n",
              "\n",
              "    .dataframe thead th {\n",
              "        text-align: right;\n",
              "    }\n",
              "</style>\n",
              "<table border=\"1\" class=\"dataframe\">\n",
              "  <thead>\n",
              "    <tr style=\"text-align: right;\">\n",
              "      <th></th>\n",
              "      <th>count</th>\n",
              "      <th>mean</th>\n",
              "      <th>std</th>\n",
              "      <th>min</th>\n",
              "      <th>25%</th>\n",
              "      <th>50%</th>\n",
              "      <th>75%</th>\n",
              "      <th>max</th>\n",
              "    </tr>\n",
              "  </thead>\n",
              "  <tbody>\n",
              "    <tr>\n",
              "      <th>MPG</th>\n",
              "      <td>314.0</td>\n",
              "      <td>23.310510</td>\n",
              "      <td>7.728652</td>\n",
              "      <td>10.0</td>\n",
              "      <td>17.00</td>\n",
              "      <td>22.0</td>\n",
              "      <td>28.95</td>\n",
              "      <td>46.6</td>\n",
              "    </tr>\n",
              "    <tr>\n",
              "      <th>Cylinders</th>\n",
              "      <td>314.0</td>\n",
              "      <td>5.477707</td>\n",
              "      <td>1.699788</td>\n",
              "      <td>3.0</td>\n",
              "      <td>4.00</td>\n",
              "      <td>4.0</td>\n",
              "      <td>8.00</td>\n",
              "      <td>8.0</td>\n",
              "    </tr>\n",
              "    <tr>\n",
              "      <th>Displacement</th>\n",
              "      <td>314.0</td>\n",
              "      <td>195.318471</td>\n",
              "      <td>104.331589</td>\n",
              "      <td>68.0</td>\n",
              "      <td>105.50</td>\n",
              "      <td>151.0</td>\n",
              "      <td>265.75</td>\n",
              "      <td>455.0</td>\n",
              "    </tr>\n",
              "    <tr>\n",
              "      <th>Horsepower</th>\n",
              "      <td>314.0</td>\n",
              "      <td>104.869427</td>\n",
              "      <td>38.096214</td>\n",
              "      <td>46.0</td>\n",
              "      <td>76.25</td>\n",
              "      <td>94.5</td>\n",
              "      <td>128.00</td>\n",
              "      <td>225.0</td>\n",
              "    </tr>\n",
              "    <tr>\n",
              "      <th>Weight</th>\n",
              "      <td>314.0</td>\n",
              "      <td>2990.251592</td>\n",
              "      <td>843.898596</td>\n",
              "      <td>1649.0</td>\n",
              "      <td>2256.50</td>\n",
              "      <td>2822.5</td>\n",
              "      <td>3608.00</td>\n",
              "      <td>5140.0</td>\n",
              "    </tr>\n",
              "    <tr>\n",
              "      <th>Acceleration</th>\n",
              "      <td>314.0</td>\n",
              "      <td>15.559236</td>\n",
              "      <td>2.789230</td>\n",
              "      <td>8.0</td>\n",
              "      <td>13.80</td>\n",
              "      <td>15.5</td>\n",
              "      <td>17.20</td>\n",
              "      <td>24.8</td>\n",
              "    </tr>\n",
              "    <tr>\n",
              "      <th>Model Year</th>\n",
              "      <td>314.0</td>\n",
              "      <td>75.898089</td>\n",
              "      <td>3.675642</td>\n",
              "      <td>70.0</td>\n",
              "      <td>73.00</td>\n",
              "      <td>76.0</td>\n",
              "      <td>79.00</td>\n",
              "      <td>82.0</td>\n",
              "    </tr>\n",
              "    <tr>\n",
              "      <th>Europe</th>\n",
              "      <td>314.0</td>\n",
              "      <td>0.178344</td>\n",
              "      <td>0.383413</td>\n",
              "      <td>0.0</td>\n",
              "      <td>0.00</td>\n",
              "      <td>0.0</td>\n",
              "      <td>0.00</td>\n",
              "      <td>1.0</td>\n",
              "    </tr>\n",
              "    <tr>\n",
              "      <th>Japan</th>\n",
              "      <td>314.0</td>\n",
              "      <td>0.197452</td>\n",
              "      <td>0.398712</td>\n",
              "      <td>0.0</td>\n",
              "      <td>0.00</td>\n",
              "      <td>0.0</td>\n",
              "      <td>0.00</td>\n",
              "      <td>1.0</td>\n",
              "    </tr>\n",
              "    <tr>\n",
              "      <th>USA</th>\n",
              "      <td>314.0</td>\n",
              "      <td>0.624204</td>\n",
              "      <td>0.485101</td>\n",
              "      <td>0.0</td>\n",
              "      <td>0.00</td>\n",
              "      <td>1.0</td>\n",
              "      <td>1.00</td>\n",
              "      <td>1.0</td>\n",
              "    </tr>\n",
              "  </tbody>\n",
              "</table>\n",
              "</div>\n",
              "      <button class=\"colab-df-convert\" onclick=\"convertToInteractive('df-e6e2745d-7198-4fa1-a8d3-3dac90c48d8a')\"\n",
              "              title=\"Convert this dataframe to an interactive table.\"\n",
              "              style=\"display:none;\">\n",
              "        \n",
              "  <svg xmlns=\"http://www.w3.org/2000/svg\" height=\"24px\"viewBox=\"0 0 24 24\"\n",
              "       width=\"24px\">\n",
              "    <path d=\"M0 0h24v24H0V0z\" fill=\"none\"/>\n",
              "    <path d=\"M18.56 5.44l.94 2.06.94-2.06 2.06-.94-2.06-.94-.94-2.06-.94 2.06-2.06.94zm-11 1L8.5 8.5l.94-2.06 2.06-.94-2.06-.94L8.5 2.5l-.94 2.06-2.06.94zm10 10l.94 2.06.94-2.06 2.06-.94-2.06-.94-.94-2.06-.94 2.06-2.06.94z\"/><path d=\"M17.41 7.96l-1.37-1.37c-.4-.4-.92-.59-1.43-.59-.52 0-1.04.2-1.43.59L10.3 9.45l-7.72 7.72c-.78.78-.78 2.05 0 2.83L4 21.41c.39.39.9.59 1.41.59.51 0 1.02-.2 1.41-.59l7.78-7.78 2.81-2.81c.8-.78.8-2.07 0-2.86zM5.41 20L4 18.59l7.72-7.72 1.47 1.35L5.41 20z\"/>\n",
              "  </svg>\n",
              "      </button>\n",
              "      \n",
              "  <style>\n",
              "    .colab-df-container {\n",
              "      display:flex;\n",
              "      flex-wrap:wrap;\n",
              "      gap: 12px;\n",
              "    }\n",
              "\n",
              "    .colab-df-convert {\n",
              "      background-color: #E8F0FE;\n",
              "      border: none;\n",
              "      border-radius: 50%;\n",
              "      cursor: pointer;\n",
              "      display: none;\n",
              "      fill: #1967D2;\n",
              "      height: 32px;\n",
              "      padding: 0 0 0 0;\n",
              "      width: 32px;\n",
              "    }\n",
              "\n",
              "    .colab-df-convert:hover {\n",
              "      background-color: #E2EBFA;\n",
              "      box-shadow: 0px 1px 2px rgba(60, 64, 67, 0.3), 0px 1px 3px 1px rgba(60, 64, 67, 0.15);\n",
              "      fill: #174EA6;\n",
              "    }\n",
              "\n",
              "    [theme=dark] .colab-df-convert {\n",
              "      background-color: #3B4455;\n",
              "      fill: #D2E3FC;\n",
              "    }\n",
              "\n",
              "    [theme=dark] .colab-df-convert:hover {\n",
              "      background-color: #434B5C;\n",
              "      box-shadow: 0px 1px 3px 1px rgba(0, 0, 0, 0.15);\n",
              "      filter: drop-shadow(0px 1px 2px rgba(0, 0, 0, 0.3));\n",
              "      fill: #FFFFFF;\n",
              "    }\n",
              "  </style>\n",
              "\n",
              "      <script>\n",
              "        const buttonEl =\n",
              "          document.querySelector('#df-e6e2745d-7198-4fa1-a8d3-3dac90c48d8a button.colab-df-convert');\n",
              "        buttonEl.style.display =\n",
              "          google.colab.kernel.accessAllowed ? 'block' : 'none';\n",
              "\n",
              "        async function convertToInteractive(key) {\n",
              "          const element = document.querySelector('#df-e6e2745d-7198-4fa1-a8d3-3dac90c48d8a');\n",
              "          const dataTable =\n",
              "            await google.colab.kernel.invokeFunction('convertToInteractive',\n",
              "                                                     [key], {});\n",
              "          if (!dataTable) return;\n",
              "\n",
              "          const docLinkHtml = 'Like what you see? Visit the ' +\n",
              "            '<a target=\"_blank\" href=https://colab.research.google.com/notebooks/data_table.ipynb>data table notebook</a>'\n",
              "            + ' to learn more about interactive tables.';\n",
              "          element.innerHTML = '';\n",
              "          dataTable['output_type'] = 'display_data';\n",
              "          await google.colab.output.renderOutput(dataTable, element);\n",
              "          const docLink = document.createElement('div');\n",
              "          docLink.innerHTML = docLinkHtml;\n",
              "          element.appendChild(docLink);\n",
              "        }\n",
              "      </script>\n",
              "    </div>\n",
              "  </div>\n",
              "  "
            ]
          },
          "metadata": {},
          "execution_count": 13
        }
      ]
    },
    {
      "cell_type": "markdown",
      "metadata": {
        "id": "Db7Auq1yXUvh"
      },
      "source": [
        "### Split features from labels\n",
        "\n",
        "Separate the target value—the \"label\"—from the features. This label is the value that you will train the model to predict."
      ]
    },
    {
      "cell_type": "code",
      "metadata": {
        "id": "t2sluJdCW7jN"
      },
      "source": [
        "X_train = train_dataset.copy()\n",
        "X_test = test_dataset.copy()\n",
        "\n",
        "y_train = X_train.pop('MPG')\n",
        "y_test = X_test.pop('MPG')"
      ],
      "execution_count": 14,
      "outputs": []
    },
    {
      "cell_type": "code",
      "source": [
        "X_train"
      ],
      "metadata": {
        "id": "Y3OK3MDeK00m",
        "outputId": "ec55e951-a104-4130-fce8-a3cb62242b16",
        "colab": {
          "base_uri": "https://localhost:8080/",
          "height": 424
        }
      },
      "execution_count": 15,
      "outputs": [
        {
          "output_type": "execute_result",
          "data": {
            "text/plain": [
              "     Cylinders  Displacement  Horsepower  Weight  Acceleration  Model Year  \\\n",
              "146          4          90.0        75.0  2125.0          14.5          74   \n",
              "282          4         140.0        88.0  2890.0          17.3          79   \n",
              "69           8         350.0       160.0  4456.0          13.5          72   \n",
              "378          4         105.0        63.0  2125.0          14.7          82   \n",
              "331          4          97.0        67.0  2145.0          18.0          80   \n",
              "..         ...           ...         ...     ...           ...         ...   \n",
              "281          6         200.0        85.0  2990.0          18.2          79   \n",
              "229          8         400.0       180.0  4220.0          11.1          77   \n",
              "150          4         108.0        93.0  2391.0          15.5          74   \n",
              "145          4          83.0        61.0  2003.0          19.0          74   \n",
              "182          4         107.0        86.0  2464.0          15.5          76   \n",
              "\n",
              "     Europe  Japan  USA  \n",
              "146       0      0    1  \n",
              "282       0      0    1  \n",
              "69        0      0    1  \n",
              "378       0      0    1  \n",
              "331       0      1    0  \n",
              "..      ...    ...  ...  \n",
              "281       0      0    1  \n",
              "229       0      0    1  \n",
              "150       0      1    0  \n",
              "145       0      1    0  \n",
              "182       1      0    0  \n",
              "\n",
              "[314 rows x 9 columns]"
            ],
            "text/html": [
              "\n",
              "  <div id=\"df-f803db66-35d7-4715-9d2f-c758114f9490\">\n",
              "    <div class=\"colab-df-container\">\n",
              "      <div>\n",
              "<style scoped>\n",
              "    .dataframe tbody tr th:only-of-type {\n",
              "        vertical-align: middle;\n",
              "    }\n",
              "\n",
              "    .dataframe tbody tr th {\n",
              "        vertical-align: top;\n",
              "    }\n",
              "\n",
              "    .dataframe thead th {\n",
              "        text-align: right;\n",
              "    }\n",
              "</style>\n",
              "<table border=\"1\" class=\"dataframe\">\n",
              "  <thead>\n",
              "    <tr style=\"text-align: right;\">\n",
              "      <th></th>\n",
              "      <th>Cylinders</th>\n",
              "      <th>Displacement</th>\n",
              "      <th>Horsepower</th>\n",
              "      <th>Weight</th>\n",
              "      <th>Acceleration</th>\n",
              "      <th>Model Year</th>\n",
              "      <th>Europe</th>\n",
              "      <th>Japan</th>\n",
              "      <th>USA</th>\n",
              "    </tr>\n",
              "  </thead>\n",
              "  <tbody>\n",
              "    <tr>\n",
              "      <th>146</th>\n",
              "      <td>4</td>\n",
              "      <td>90.0</td>\n",
              "      <td>75.0</td>\n",
              "      <td>2125.0</td>\n",
              "      <td>14.5</td>\n",
              "      <td>74</td>\n",
              "      <td>0</td>\n",
              "      <td>0</td>\n",
              "      <td>1</td>\n",
              "    </tr>\n",
              "    <tr>\n",
              "      <th>282</th>\n",
              "      <td>4</td>\n",
              "      <td>140.0</td>\n",
              "      <td>88.0</td>\n",
              "      <td>2890.0</td>\n",
              "      <td>17.3</td>\n",
              "      <td>79</td>\n",
              "      <td>0</td>\n",
              "      <td>0</td>\n",
              "      <td>1</td>\n",
              "    </tr>\n",
              "    <tr>\n",
              "      <th>69</th>\n",
              "      <td>8</td>\n",
              "      <td>350.0</td>\n",
              "      <td>160.0</td>\n",
              "      <td>4456.0</td>\n",
              "      <td>13.5</td>\n",
              "      <td>72</td>\n",
              "      <td>0</td>\n",
              "      <td>0</td>\n",
              "      <td>1</td>\n",
              "    </tr>\n",
              "    <tr>\n",
              "      <th>378</th>\n",
              "      <td>4</td>\n",
              "      <td>105.0</td>\n",
              "      <td>63.0</td>\n",
              "      <td>2125.0</td>\n",
              "      <td>14.7</td>\n",
              "      <td>82</td>\n",
              "      <td>0</td>\n",
              "      <td>0</td>\n",
              "      <td>1</td>\n",
              "    </tr>\n",
              "    <tr>\n",
              "      <th>331</th>\n",
              "      <td>4</td>\n",
              "      <td>97.0</td>\n",
              "      <td>67.0</td>\n",
              "      <td>2145.0</td>\n",
              "      <td>18.0</td>\n",
              "      <td>80</td>\n",
              "      <td>0</td>\n",
              "      <td>1</td>\n",
              "      <td>0</td>\n",
              "    </tr>\n",
              "    <tr>\n",
              "      <th>...</th>\n",
              "      <td>...</td>\n",
              "      <td>...</td>\n",
              "      <td>...</td>\n",
              "      <td>...</td>\n",
              "      <td>...</td>\n",
              "      <td>...</td>\n",
              "      <td>...</td>\n",
              "      <td>...</td>\n",
              "      <td>...</td>\n",
              "    </tr>\n",
              "    <tr>\n",
              "      <th>281</th>\n",
              "      <td>6</td>\n",
              "      <td>200.0</td>\n",
              "      <td>85.0</td>\n",
              "      <td>2990.0</td>\n",
              "      <td>18.2</td>\n",
              "      <td>79</td>\n",
              "      <td>0</td>\n",
              "      <td>0</td>\n",
              "      <td>1</td>\n",
              "    </tr>\n",
              "    <tr>\n",
              "      <th>229</th>\n",
              "      <td>8</td>\n",
              "      <td>400.0</td>\n",
              "      <td>180.0</td>\n",
              "      <td>4220.0</td>\n",
              "      <td>11.1</td>\n",
              "      <td>77</td>\n",
              "      <td>0</td>\n",
              "      <td>0</td>\n",
              "      <td>1</td>\n",
              "    </tr>\n",
              "    <tr>\n",
              "      <th>150</th>\n",
              "      <td>4</td>\n",
              "      <td>108.0</td>\n",
              "      <td>93.0</td>\n",
              "      <td>2391.0</td>\n",
              "      <td>15.5</td>\n",
              "      <td>74</td>\n",
              "      <td>0</td>\n",
              "      <td>1</td>\n",
              "      <td>0</td>\n",
              "    </tr>\n",
              "    <tr>\n",
              "      <th>145</th>\n",
              "      <td>4</td>\n",
              "      <td>83.0</td>\n",
              "      <td>61.0</td>\n",
              "      <td>2003.0</td>\n",
              "      <td>19.0</td>\n",
              "      <td>74</td>\n",
              "      <td>0</td>\n",
              "      <td>1</td>\n",
              "      <td>0</td>\n",
              "    </tr>\n",
              "    <tr>\n",
              "      <th>182</th>\n",
              "      <td>4</td>\n",
              "      <td>107.0</td>\n",
              "      <td>86.0</td>\n",
              "      <td>2464.0</td>\n",
              "      <td>15.5</td>\n",
              "      <td>76</td>\n",
              "      <td>1</td>\n",
              "      <td>0</td>\n",
              "      <td>0</td>\n",
              "    </tr>\n",
              "  </tbody>\n",
              "</table>\n",
              "<p>314 rows × 9 columns</p>\n",
              "</div>\n",
              "      <button class=\"colab-df-convert\" onclick=\"convertToInteractive('df-f803db66-35d7-4715-9d2f-c758114f9490')\"\n",
              "              title=\"Convert this dataframe to an interactive table.\"\n",
              "              style=\"display:none;\">\n",
              "        \n",
              "  <svg xmlns=\"http://www.w3.org/2000/svg\" height=\"24px\"viewBox=\"0 0 24 24\"\n",
              "       width=\"24px\">\n",
              "    <path d=\"M0 0h24v24H0V0z\" fill=\"none\"/>\n",
              "    <path d=\"M18.56 5.44l.94 2.06.94-2.06 2.06-.94-2.06-.94-.94-2.06-.94 2.06-2.06.94zm-11 1L8.5 8.5l.94-2.06 2.06-.94-2.06-.94L8.5 2.5l-.94 2.06-2.06.94zm10 10l.94 2.06.94-2.06 2.06-.94-2.06-.94-.94-2.06-.94 2.06-2.06.94z\"/><path d=\"M17.41 7.96l-1.37-1.37c-.4-.4-.92-.59-1.43-.59-.52 0-1.04.2-1.43.59L10.3 9.45l-7.72 7.72c-.78.78-.78 2.05 0 2.83L4 21.41c.39.39.9.59 1.41.59.51 0 1.02-.2 1.41-.59l7.78-7.78 2.81-2.81c.8-.78.8-2.07 0-2.86zM5.41 20L4 18.59l7.72-7.72 1.47 1.35L5.41 20z\"/>\n",
              "  </svg>\n",
              "      </button>\n",
              "      \n",
              "  <style>\n",
              "    .colab-df-container {\n",
              "      display:flex;\n",
              "      flex-wrap:wrap;\n",
              "      gap: 12px;\n",
              "    }\n",
              "\n",
              "    .colab-df-convert {\n",
              "      background-color: #E8F0FE;\n",
              "      border: none;\n",
              "      border-radius: 50%;\n",
              "      cursor: pointer;\n",
              "      display: none;\n",
              "      fill: #1967D2;\n",
              "      height: 32px;\n",
              "      padding: 0 0 0 0;\n",
              "      width: 32px;\n",
              "    }\n",
              "\n",
              "    .colab-df-convert:hover {\n",
              "      background-color: #E2EBFA;\n",
              "      box-shadow: 0px 1px 2px rgba(60, 64, 67, 0.3), 0px 1px 3px 1px rgba(60, 64, 67, 0.15);\n",
              "      fill: #174EA6;\n",
              "    }\n",
              "\n",
              "    [theme=dark] .colab-df-convert {\n",
              "      background-color: #3B4455;\n",
              "      fill: #D2E3FC;\n",
              "    }\n",
              "\n",
              "    [theme=dark] .colab-df-convert:hover {\n",
              "      background-color: #434B5C;\n",
              "      box-shadow: 0px 1px 3px 1px rgba(0, 0, 0, 0.15);\n",
              "      filter: drop-shadow(0px 1px 2px rgba(0, 0, 0, 0.3));\n",
              "      fill: #FFFFFF;\n",
              "    }\n",
              "  </style>\n",
              "\n",
              "      <script>\n",
              "        const buttonEl =\n",
              "          document.querySelector('#df-f803db66-35d7-4715-9d2f-c758114f9490 button.colab-df-convert');\n",
              "        buttonEl.style.display =\n",
              "          google.colab.kernel.accessAllowed ? 'block' : 'none';\n",
              "\n",
              "        async function convertToInteractive(key) {\n",
              "          const element = document.querySelector('#df-f803db66-35d7-4715-9d2f-c758114f9490');\n",
              "          const dataTable =\n",
              "            await google.colab.kernel.invokeFunction('convertToInteractive',\n",
              "                                                     [key], {});\n",
              "          if (!dataTable) return;\n",
              "\n",
              "          const docLinkHtml = 'Like what you see? Visit the ' +\n",
              "            '<a target=\"_blank\" href=https://colab.research.google.com/notebooks/data_table.ipynb>data table notebook</a>'\n",
              "            + ' to learn more about interactive tables.';\n",
              "          element.innerHTML = '';\n",
              "          dataTable['output_type'] = 'display_data';\n",
              "          await google.colab.output.renderOutput(dataTable, element);\n",
              "          const docLink = document.createElement('div');\n",
              "          docLink.innerHTML = docLinkHtml;\n",
              "          element.appendChild(docLink);\n",
              "        }\n",
              "      </script>\n",
              "    </div>\n",
              "  </div>\n",
              "  "
            ]
          },
          "metadata": {},
          "execution_count": 15
        }
      ]
    },
    {
      "cell_type": "code",
      "source": [
        "y_train"
      ],
      "metadata": {
        "id": "UHUHLfzuK4fm",
        "outputId": "859a3839-dc9e-4316-d96b-e8f4856ecf6e",
        "colab": {
          "base_uri": "https://localhost:8080/"
        }
      },
      "execution_count": 16,
      "outputs": [
        {
          "output_type": "execute_result",
          "data": {
            "text/plain": [
              "146    28.0\n",
              "282    22.3\n",
              "69     12.0\n",
              "378    38.0\n",
              "331    33.8\n",
              "       ... \n",
              "281    19.8\n",
              "229    16.0\n",
              "150    26.0\n",
              "145    32.0\n",
              "182    28.0\n",
              "Name: MPG, Length: 314, dtype: float64"
            ]
          },
          "metadata": {},
          "execution_count": 16
        }
      ]
    },
    {
      "cell_type": "markdown",
      "metadata": {
        "id": "h7ELoe3UGUVU"
      },
      "source": [
        "## Helper methods"
      ]
    },
    {
      "cell_type": "code",
      "metadata": {
        "id": "9E54UoZunqhc"
      },
      "source": [
        "def plot_loss(history):\n",
        "  plt.plot(history.history['loss'], label='loss')\n",
        "  plt.plot(history.history['val_loss'], label='val_loss')\n",
        "  plt.ylim([0, 50])\n",
        "  plt.xlabel('Epoch')\n",
        "  plt.ylabel('Error [MPG]')\n",
        "  plt.legend()\n",
        "  plt.grid(True)"
      ],
      "execution_count": 17,
      "outputs": []
    },
    {
      "cell_type": "code",
      "metadata": {
        "id": "eXGvzh_jFzJE"
      },
      "source": [
        "test_results = {}"
      ],
      "execution_count": 18,
      "outputs": []
    },
    {
      "cell_type": "markdown",
      "metadata": {
        "id": "6o3CrycBXA2s"
      },
      "source": [
        "## Linear regression\n",
        "\n",
        "Before building a deep neural network model, start with linear regression."
      ]
    },
    {
      "cell_type": "markdown",
      "metadata": {
        "id": "PribnwDHUksC"
      },
      "source": [
        "This model still does the same $y = mx+b$ except that $m$ is a matrix and $b$ is a vector.\n",
        "\n",
        "Create a two-step Keras Sequential model again with the first layer being `normalizer` (`tf.keras.layers.Normalization(axis=-1)`) you defined earlier and adapted to the whole dataset:"
      ]
    },
    {
      "cell_type": "code",
      "source": [
        "train_dataset.shape"
      ],
      "metadata": {
        "id": "msGWAscbZqhY"
      },
      "execution_count": null,
      "outputs": []
    },
    {
      "cell_type": "markdown",
      "source": [
        "## Building sequential model\n",
        "\n",
        "A Sequential model is appropriate for a plain stack of layers where each layer has exactly one input tensor and one output tensor."
      ],
      "metadata": {
        "id": "Dn2OvyHEaIeG"
      }
    },
    {
      "cell_type": "markdown",
      "source": [
        "### Option 1"
      ],
      "metadata": {
        "id": "yLZkfmdvdjxS"
      }
    },
    {
      "cell_type": "code",
      "source": [
        "linear_model = tf.keras.Sequential()"
      ],
      "metadata": {
        "id": "zXmEqfdAZ6cM"
      },
      "execution_count": null,
      "outputs": []
    },
    {
      "cell_type": "code",
      "source": [
        "linear_model"
      ],
      "metadata": {
        "id": "o-aiaz9925VF"
      },
      "execution_count": null,
      "outputs": []
    },
    {
      "cell_type": "code",
      "source": [
        "X_train.shape"
      ],
      "metadata": {
        "id": "Rdx_SIGW3_4A"
      },
      "execution_count": null,
      "outputs": []
    },
    {
      "cell_type": "code",
      "source": [
        "linear_model.add(keras.Input(shape=(9,)))"
      ],
      "metadata": {
        "id": "A6pB-UrqZ4WU"
      },
      "execution_count": null,
      "outputs": []
    },
    {
      "cell_type": "code",
      "source": [
        "linear_model.summary()"
      ],
      "metadata": {
        "id": "dQhTpTu7aiFV"
      },
      "execution_count": null,
      "outputs": []
    },
    {
      "cell_type": "code",
      "source": [
        "linear_model.add(layers.Dense(units=1, activation=None, use_bias=True))"
      ],
      "metadata": {
        "id": "gumnGZj8aljx"
      },
      "execution_count": null,
      "outputs": []
    },
    {
      "cell_type": "code",
      "source": [
        "linear_model.summary()"
      ],
      "metadata": {
        "id": "G59_RCArau4Z"
      },
      "execution_count": null,
      "outputs": []
    },
    {
      "cell_type": "markdown",
      "source": [
        "### Option 2"
      ],
      "metadata": {
        "id": "nZBpIaXddwR9"
      }
    },
    {
      "cell_type": "code",
      "source": [
        "linear_model = tf.keras.Sequential([\n",
        "    layers.Dense(units=1, activation=None)\n",
        "])"
      ],
      "metadata": {
        "id": "dcEhl1yBdyTN"
      },
      "execution_count": null,
      "outputs": []
    },
    {
      "cell_type": "code",
      "source": [
        "# cannot print summary until input shape is unknown\n",
        "linear_model.summary()"
      ],
      "metadata": {
        "id": "E9KQDVdTd2F5"
      },
      "execution_count": null,
      "outputs": []
    },
    {
      "cell_type": "code",
      "source": [
        "linear_model = tf.keras.Sequential([\n",
        "    keras.Input(shape=(9,)),\n",
        "    layers.Dense(units=1, activation=None)\n",
        "])"
      ],
      "metadata": {
        "id": "AoSkMrLFd-Ne"
      },
      "execution_count": null,
      "outputs": []
    },
    {
      "cell_type": "code",
      "source": [
        "linear_model.summary()"
      ],
      "metadata": {
        "id": "4MV0mZZSeMSd"
      },
      "execution_count": null,
      "outputs": []
    },
    {
      "cell_type": "markdown",
      "source": [
        "### Option 3\n",
        "\n",
        "You don't have to provide input layer, the model can understand it from the first call to predict/train"
      ],
      "metadata": {
        "id": "Ooma0DBkeinB"
      }
    },
    {
      "cell_type": "code",
      "source": [
        "linear_model = tf.keras.Sequential([\n",
        "    layers.Input(shape=(9,)),\n",
        "    layers.Dense(units=1, activation=None)\n",
        "])"
      ],
      "metadata": {
        "id": "oFHi5epQexIG"
      },
      "execution_count": 20,
      "outputs": []
    },
    {
      "cell_type": "code",
      "source": [
        "linear_model.summary()"
      ],
      "metadata": {
        "id": "IVbhNM9wUHK9",
        "outputId": "078a687c-2e4c-4143-b7c8-a421420a45e6",
        "colab": {
          "base_uri": "https://localhost:8080/"
        }
      },
      "execution_count": 22,
      "outputs": [
        {
          "output_type": "stream",
          "name": "stdout",
          "text": [
            "Model: \"sequential_1\"\n",
            "_________________________________________________________________\n",
            " Layer (type)                Output Shape              Param #   \n",
            "=================================================================\n",
            " dense_1 (Dense)             (None, 1)                 10        \n",
            "                                                                 \n",
            "=================================================================\n",
            "Total params: 10\n",
            "Trainable params: 10\n",
            "Non-trainable params: 0\n",
            "_________________________________________________________________\n"
          ]
        }
      ]
    },
    {
      "cell_type": "markdown",
      "source": [
        "## Compile the model"
      ],
      "metadata": {
        "id": "1bjcvpemgCeT"
      }
    },
    {
      "cell_type": "code",
      "source": [
        "linear_model.compile(\n",
        "    # optimizer=tf.optimizers.Adam(learning_rate=0.1),\n",
        "    optimizer=\"Adam\",\n",
        "    loss='mean_absolute_error', # mean_squared_error\n",
        "    #metrics=None,\n",
        "    #weighted_metrics=None,\n",
        "    #loss_weights=None\n",
        "    )"
      ],
      "metadata": {
        "id": "x0xP6V63gEaQ"
      },
      "execution_count": 23,
      "outputs": []
    },
    {
      "cell_type": "markdown",
      "source": [
        "https://keras.io/api/optimizers/\n"
      ],
      "metadata": {
        "id": "c82IQkNsh4EB"
      }
    },
    {
      "cell_type": "markdown",
      "source": [
        "https://keras.io/api/losses/"
      ],
      "metadata": {
        "id": "ZTtBnpc3ipFT"
      }
    },
    {
      "cell_type": "markdown",
      "source": [
        "### We can now examine the untrained model, and even predict"
      ],
      "metadata": {
        "id": "WFn0-5YrjiGN"
      }
    },
    {
      "cell_type": "code",
      "source": [
        "linear_model"
      ],
      "metadata": {
        "id": "RgdvKxB2eul5",
        "outputId": "f9af1ccf-e51e-461c-d0f3-48ef36904cc8",
        "colab": {
          "base_uri": "https://localhost:8080/"
        }
      },
      "execution_count": 24,
      "outputs": [
        {
          "output_type": "execute_result",
          "data": {
            "text/plain": [
              "<keras.engine.sequential.Sequential at 0x7f2218f1e890>"
            ]
          },
          "metadata": {},
          "execution_count": 24
        }
      ]
    },
    {
      "cell_type": "code",
      "source": [
        "linear_model.layers"
      ],
      "metadata": {
        "id": "3U25mQQIHDGl",
        "outputId": "ef101b14-5266-4dd2-d3a6-da1005bb13cd",
        "colab": {
          "base_uri": "https://localhost:8080/"
        }
      },
      "execution_count": 25,
      "outputs": [
        {
          "output_type": "execute_result",
          "data": {
            "text/plain": [
              "[<keras.layers.core.dense.Dense at 0x7f2218f17b10>]"
            ]
          },
          "metadata": {},
          "execution_count": 25
        }
      ]
    },
    {
      "cell_type": "code",
      "source": [
        "linear_model.layers[0]"
      ],
      "metadata": {
        "id": "BFt-_SczHIcI",
        "outputId": "696c9064-6514-4a49-8c9c-78854b719788",
        "colab": {
          "base_uri": "https://localhost:8080/"
        }
      },
      "execution_count": 26,
      "outputs": [
        {
          "output_type": "execute_result",
          "data": {
            "text/plain": [
              "<keras.layers.core.dense.Dense at 0x7f2218f17b10>"
            ]
          },
          "metadata": {},
          "execution_count": 26
        }
      ]
    },
    {
      "cell_type": "code",
      "source": [
        "linear_model.layers[0].get_weights()"
      ],
      "metadata": {
        "id": "T95AsOpge8Wo",
        "outputId": "7277c2e6-2026-4eb3-eaa7-7677d99b1c3e",
        "colab": {
          "base_uri": "https://localhost:8080/"
        }
      },
      "execution_count": 27,
      "outputs": [
        {
          "output_type": "execute_result",
          "data": {
            "text/plain": [
              "[array([[ 0.335],\n",
              "        [-0.696],\n",
              "        [-0.697],\n",
              "        [-0.501],\n",
              "        [ 0.526],\n",
              "        [-0.041],\n",
              "        [ 0.541],\n",
              "        [ 0.621],\n",
              "        [ 0.122]], dtype=float32), array([0.], dtype=float32)]"
            ]
          },
          "metadata": {},
          "execution_count": 27
        }
      ]
    },
    {
      "cell_type": "code",
      "metadata": {
        "id": "DwJ4Fq0RXBQf"
      },
      "source": [
        "len(linear_model.layers[0].get_weights())"
      ],
      "execution_count": null,
      "outputs": []
    },
    {
      "cell_type": "code",
      "source": [
        "linear_model.layers[0].get_weights()[0]"
      ],
      "metadata": {
        "id": "U8Yh81SCQ2GI"
      },
      "execution_count": null,
      "outputs": []
    },
    {
      "cell_type": "code",
      "source": [
        "linear_model.layers[0].get_weights()[1]"
      ],
      "metadata": {
        "id": "GeQtpF1KQ6Ps"
      },
      "execution_count": null,
      "outputs": []
    },
    {
      "cell_type": "markdown",
      "metadata": {
        "id": "IHlx6WeIWyAr"
      },
      "source": [
        "When you call `Model.predict` on a batch of inputs, it produces `units=1` outputs for each example:"
      ]
    },
    {
      "cell_type": "code",
      "metadata": {
        "id": "DynfJV18WiuT",
        "outputId": "8864aa05-4b94-427d-fc02-300e910b4fad",
        "colab": {
          "base_uri": "https://localhost:8080/"
        }
      },
      "source": [
        "linear_model.predict(X_train[:10])"
      ],
      "execution_count": 28,
      "outputs": [
        {
          "output_type": "execute_result",
          "data": {
            "text/plain": [
              "array([[-1173.169],\n",
              "       [-1598.907],\n",
              "       [-2579.983],\n",
              "       [-1175.468],\n",
              "       [-1180.386],\n",
              "       [-1823.957],\n",
              "       [-1080.868],\n",
              "       [-1765.988],\n",
              "       [-1749.888],\n",
              "       [-1261.327]], dtype=float32)"
            ]
          },
          "metadata": {},
          "execution_count": 28
        }
      ]
    },
    {
      "cell_type": "code",
      "source": [
        "y_train[:10]"
      ],
      "metadata": {
        "id": "HAEGCByQlZDw",
        "outputId": "9e100ed0-0144-4e19-fd9b-4e84776985cf",
        "colab": {
          "base_uri": "https://localhost:8080/"
        }
      },
      "execution_count": 29,
      "outputs": [
        {
          "output_type": "execute_result",
          "data": {
            "text/plain": [
              "146    28.0\n",
              "282    22.3\n",
              "69     12.0\n",
              "378    38.0\n",
              "331    33.8\n",
              "257    19.4\n",
              "310    38.1\n",
              "328    30.0\n",
              "125    20.0\n",
              "108    20.0\n",
              "Name: MPG, dtype: float64"
            ]
          },
          "metadata": {},
          "execution_count": 29
        }
      ]
    },
    {
      "cell_type": "markdown",
      "metadata": {
        "id": "hvHKH3rPXHmq"
      },
      "source": [
        "When you call the model, its weight matrices will be built—check that the `kernel` weights (the $m$ in $y=mx+b$) have a shape of `(9, 1)`:"
      ]
    },
    {
      "cell_type": "markdown",
      "source": [
        "### Training the model"
      ],
      "metadata": {
        "id": "8RDIkoUQeS2o"
      }
    },
    {
      "cell_type": "code",
      "metadata": {
        "id": "EZoOYORvoTSe",
        "outputId": "3c41607a-28af-4b4a-9823-2c0cf92a08c2",
        "colab": {
          "base_uri": "https://localhost:8080/"
        }
      },
      "source": [
        "history = linear_model.fit(\n",
        "    x=X_train,\n",
        "    y=y_train,\n",
        "    batch_size=32,\n",
        "    epochs=100,\n",
        "    verbose=1, # logging\n",
        "    validation_split=0.2 # Calculate validation results on 20% of the training data\n",
        "    )"
      ],
      "execution_count": 30,
      "outputs": [
        {
          "output_type": "stream",
          "name": "stdout",
          "text": [
            "Epoch 1/100\n",
            "8/8 [==============================] - 1s 29ms/step - loss: 1708.9471 - val_loss: 1705.3507\n",
            "Epoch 2/100\n",
            "8/8 [==============================] - 0s 10ms/step - loss: 1681.7200 - val_loss: 1678.1753\n",
            "Epoch 3/100\n",
            "8/8 [==============================] - 0s 10ms/step - loss: 1654.9015 - val_loss: 1650.8632\n",
            "Epoch 4/100\n",
            "8/8 [==============================] - 0s 22ms/step - loss: 1627.6997 - val_loss: 1623.6678\n",
            "Epoch 5/100\n",
            "8/8 [==============================] - 0s 10ms/step - loss: 1600.7224 - val_loss: 1596.4108\n",
            "Epoch 6/100\n",
            "8/8 [==============================] - 0s 9ms/step - loss: 1573.7140 - val_loss: 1569.1566\n",
            "Epoch 7/100\n",
            "8/8 [==============================] - 0s 11ms/step - loss: 1546.6769 - val_loss: 1541.9142\n",
            "Epoch 8/100\n",
            "8/8 [==============================] - 0s 8ms/step - loss: 1519.6566 - val_loss: 1514.6671\n",
            "Epoch 9/100\n",
            "8/8 [==============================] - 0s 9ms/step - loss: 1492.4016 - val_loss: 1487.5420\n",
            "Epoch 10/100\n",
            "8/8 [==============================] - 0s 9ms/step - loss: 1465.4615 - val_loss: 1460.3239\n",
            "Epoch 11/100\n",
            "8/8 [==============================] - 0s 10ms/step - loss: 1438.4481 - val_loss: 1433.0565\n",
            "Epoch 12/100\n",
            "8/8 [==============================] - 0s 16ms/step - loss: 1411.3616 - val_loss: 1405.7906\n",
            "Epoch 13/100\n",
            "8/8 [==============================] - 0s 7ms/step - loss: 1384.3235 - val_loss: 1378.5493\n",
            "Epoch 14/100\n",
            "8/8 [==============================] - 0s 14ms/step - loss: 1357.2948 - val_loss: 1351.2860\n",
            "Epoch 15/100\n",
            "8/8 [==============================] - 0s 8ms/step - loss: 1330.2854 - val_loss: 1323.9962\n",
            "Epoch 16/100\n",
            "8/8 [==============================] - 0s 7ms/step - loss: 1303.2605 - val_loss: 1296.7161\n",
            "Epoch 17/100\n",
            "8/8 [==============================] - 0s 8ms/step - loss: 1276.1740 - val_loss: 1269.5178\n",
            "Epoch 18/100\n",
            "8/8 [==============================] - 0s 14ms/step - loss: 1249.1855 - val_loss: 1242.3071\n",
            "Epoch 19/100\n",
            "8/8 [==============================] - 0s 23ms/step - loss: 1222.0527 - val_loss: 1215.1805\n",
            "Epoch 20/100\n",
            "8/8 [==============================] - 0s 11ms/step - loss: 1195.2853 - val_loss: 1187.8539\n",
            "Epoch 21/100\n",
            "8/8 [==============================] - 0s 19ms/step - loss: 1167.9539 - val_loss: 1160.7678\n",
            "Epoch 22/100\n",
            "8/8 [==============================] - 0s 10ms/step - loss: 1140.9503 - val_loss: 1133.6278\n",
            "Epoch 23/100\n",
            "8/8 [==============================] - 0s 11ms/step - loss: 1114.0627 - val_loss: 1106.3751\n",
            "Epoch 24/100\n",
            "8/8 [==============================] - 0s 15ms/step - loss: 1087.0782 - val_loss: 1079.0950\n",
            "Epoch 25/100\n",
            "8/8 [==============================] - 0s 9ms/step - loss: 1059.9136 - val_loss: 1051.9226\n",
            "Epoch 26/100\n",
            "8/8 [==============================] - 0s 8ms/step - loss: 1032.9260 - val_loss: 1024.7399\n",
            "Epoch 27/100\n",
            "8/8 [==============================] - 0s 12ms/step - loss: 1006.0659 - val_loss: 997.4254\n",
            "Epoch 28/100\n",
            "8/8 [==============================] - 0s 10ms/step - loss: 978.7433 - val_loss: 970.3276\n",
            "Epoch 29/100\n",
            "8/8 [==============================] - 0s 8ms/step - loss: 951.8435 - val_loss: 943.0762\n",
            "Epoch 30/100\n",
            "8/8 [==============================] - 0s 11ms/step - loss: 924.8940 - val_loss: 915.7896\n",
            "Epoch 31/100\n",
            "8/8 [==============================] - 0s 13ms/step - loss: 897.7988 - val_loss: 888.5560\n",
            "Epoch 32/100\n",
            "8/8 [==============================] - 0s 11ms/step - loss: 870.8126 - val_loss: 861.2887\n",
            "Epoch 33/100\n",
            "8/8 [==============================] - 0s 7ms/step - loss: 843.5720 - val_loss: 834.1849\n",
            "Epoch 34/100\n",
            "8/8 [==============================] - 0s 8ms/step - loss: 816.7635 - val_loss: 806.9009\n",
            "Epoch 35/100\n",
            "8/8 [==============================] - 0s 9ms/step - loss: 789.4587 - val_loss: 779.8008\n",
            "Epoch 36/100\n",
            "8/8 [==============================] - 0s 14ms/step - loss: 762.6210 - val_loss: 752.5142\n",
            "Epoch 37/100\n",
            "8/8 [==============================] - 0s 12ms/step - loss: 735.6501 - val_loss: 725.1752\n",
            "Epoch 38/100\n",
            "8/8 [==============================] - 0s 8ms/step - loss: 708.5392 - val_loss: 697.9446\n",
            "Epoch 39/100\n",
            "8/8 [==============================] - 0s 12ms/step - loss: 681.4696 - val_loss: 670.7670\n",
            "Epoch 40/100\n",
            "8/8 [==============================] - 0s 12ms/step - loss: 654.2318 - val_loss: 643.7313\n",
            "Epoch 41/100\n",
            "8/8 [==============================] - 0s 17ms/step - loss: 627.4512 - val_loss: 616.4856\n",
            "Epoch 42/100\n",
            "8/8 [==============================] - 0s 10ms/step - loss: 600.3369 - val_loss: 589.2697\n",
            "Epoch 43/100\n",
            "8/8 [==============================] - 0s 17ms/step - loss: 573.3577 - val_loss: 561.9876\n",
            "Epoch 44/100\n",
            "8/8 [==============================] - 0s 8ms/step - loss: 546.2548 - val_loss: 534.7352\n",
            "Epoch 45/100\n",
            "8/8 [==============================] - 0s 16ms/step - loss: 519.2971 - val_loss: 507.4111\n",
            "Epoch 46/100\n",
            "8/8 [==============================] - 0s 11ms/step - loss: 492.2217 - val_loss: 480.1252\n",
            "Epoch 47/100\n",
            "8/8 [==============================] - 0s 13ms/step - loss: 464.9476 - val_loss: 453.0193\n",
            "Epoch 48/100\n",
            "8/8 [==============================] - 0s 18ms/step - loss: 438.0423 - val_loss: 425.8138\n",
            "Epoch 49/100\n",
            "8/8 [==============================] - 0s 23ms/step - loss: 411.0638 - val_loss: 398.5432\n",
            "Epoch 50/100\n",
            "8/8 [==============================] - 0s 8ms/step - loss: 383.9187 - val_loss: 371.3351\n",
            "Epoch 51/100\n",
            "8/8 [==============================] - 0s 18ms/step - loss: 357.0397 - val_loss: 344.0013\n",
            "Epoch 52/100\n",
            "8/8 [==============================] - 0s 21ms/step - loss: 329.7332 - val_loss: 316.8535\n",
            "Epoch 53/100\n",
            "8/8 [==============================] - 0s 21ms/step - loss: 302.9798 - val_loss: 289.4861\n",
            "Epoch 54/100\n",
            "8/8 [==============================] - 0s 26ms/step - loss: 275.9203 - val_loss: 262.1497\n",
            "Epoch 55/100\n",
            "8/8 [==============================] - 0s 16ms/step - loss: 248.5102 - val_loss: 235.1110\n",
            "Epoch 56/100\n",
            "8/8 [==============================] - 0s 17ms/step - loss: 221.5695 - val_loss: 207.9609\n",
            "Epoch 57/100\n",
            "8/8 [==============================] - 0s 9ms/step - loss: 194.6249 - val_loss: 180.7459\n",
            "Epoch 58/100\n",
            "8/8 [==============================] - 0s 12ms/step - loss: 167.6221 - val_loss: 153.4753\n",
            "Epoch 59/100\n",
            "8/8 [==============================] - 0s 10ms/step - loss: 140.6922 - val_loss: 126.1271\n",
            "Epoch 60/100\n",
            "8/8 [==============================] - 0s 9ms/step - loss: 113.3671 - val_loss: 99.0235\n",
            "Epoch 61/100\n",
            "8/8 [==============================] - 0s 17ms/step - loss: 86.5389 - val_loss: 71.7404\n",
            "Epoch 62/100\n",
            "8/8 [==============================] - 0s 9ms/step - loss: 59.3591 - val_loss: 44.5503\n",
            "Epoch 63/100\n",
            "8/8 [==============================] - 0s 8ms/step - loss: 32.5016 - val_loss: 20.1198\n",
            "Epoch 64/100\n",
            "8/8 [==============================] - 0s 23ms/step - loss: 14.2549 - val_loss: 15.4088\n",
            "Epoch 65/100\n",
            "8/8 [==============================] - 0s 13ms/step - loss: 13.9815 - val_loss: 17.0595\n",
            "Epoch 66/100\n",
            "8/8 [==============================] - 0s 11ms/step - loss: 14.4600 - val_loss: 15.9921\n",
            "Epoch 67/100\n",
            "8/8 [==============================] - 0s 9ms/step - loss: 12.9894 - val_loss: 14.6423\n",
            "Epoch 68/100\n",
            "8/8 [==============================] - 0s 11ms/step - loss: 12.1861 - val_loss: 14.5128\n",
            "Epoch 69/100\n",
            "8/8 [==============================] - 0s 8ms/step - loss: 12.3189 - val_loss: 14.4417\n",
            "Epoch 70/100\n",
            "8/8 [==============================] - 0s 8ms/step - loss: 12.1658 - val_loss: 14.2383\n",
            "Epoch 71/100\n",
            "8/8 [==============================] - 0s 10ms/step - loss: 11.9166 - val_loss: 14.0874\n",
            "Epoch 72/100\n",
            "8/8 [==============================] - 0s 11ms/step - loss: 11.8239 - val_loss: 13.9566\n",
            "Epoch 73/100\n",
            "8/8 [==============================] - 0s 13ms/step - loss: 11.7351 - val_loss: 13.8210\n",
            "Epoch 74/100\n",
            "8/8 [==============================] - 0s 11ms/step - loss: 11.6301 - val_loss: 13.7027\n",
            "Epoch 75/100\n",
            "8/8 [==============================] - 0s 12ms/step - loss: 11.4959 - val_loss: 13.5642\n",
            "Epoch 76/100\n",
            "8/8 [==============================] - 0s 18ms/step - loss: 11.3709 - val_loss: 13.4345\n",
            "Epoch 77/100\n",
            "8/8 [==============================] - 0s 14ms/step - loss: 11.2536 - val_loss: 13.3057\n",
            "Epoch 78/100\n",
            "8/8 [==============================] - 0s 10ms/step - loss: 11.1542 - val_loss: 13.1719\n",
            "Epoch 79/100\n",
            "8/8 [==============================] - 0s 8ms/step - loss: 11.0239 - val_loss: 13.0365\n",
            "Epoch 80/100\n",
            "8/8 [==============================] - 0s 13ms/step - loss: 10.9039 - val_loss: 12.8991\n",
            "Epoch 81/100\n",
            "8/8 [==============================] - 0s 15ms/step - loss: 10.7789 - val_loss: 12.7599\n",
            "Epoch 82/100\n",
            "8/8 [==============================] - 0s 27ms/step - loss: 10.6869 - val_loss: 12.6124\n",
            "Epoch 83/100\n",
            "8/8 [==============================] - 0s 27ms/step - loss: 10.5713 - val_loss: 12.4871\n",
            "Epoch 84/100\n",
            "8/8 [==============================] - 0s 14ms/step - loss: 10.4224 - val_loss: 12.3472\n",
            "Epoch 85/100\n",
            "8/8 [==============================] - 0s 8ms/step - loss: 10.3176 - val_loss: 12.2063\n",
            "Epoch 86/100\n",
            "8/8 [==============================] - 0s 10ms/step - loss: 10.2084 - val_loss: 12.0544\n",
            "Epoch 87/100\n",
            "8/8 [==============================] - 0s 17ms/step - loss: 10.0637 - val_loss: 11.9178\n",
            "Epoch 88/100\n",
            "8/8 [==============================] - 0s 16ms/step - loss: 9.9510 - val_loss: 11.7801\n",
            "Epoch 89/100\n",
            "8/8 [==============================] - 0s 22ms/step - loss: 9.8472 - val_loss: 11.6224\n",
            "Epoch 90/100\n",
            "8/8 [==============================] - 0s 15ms/step - loss: 9.7086 - val_loss: 11.4973\n",
            "Epoch 91/100\n",
            "8/8 [==============================] - 0s 16ms/step - loss: 9.5844 - val_loss: 11.3578\n",
            "Epoch 92/100\n",
            "8/8 [==============================] - 0s 16ms/step - loss: 9.4598 - val_loss: 11.2298\n",
            "Epoch 93/100\n",
            "8/8 [==============================] - 0s 8ms/step - loss: 9.3496 - val_loss: 11.0808\n",
            "Epoch 94/100\n",
            "8/8 [==============================] - 0s 20ms/step - loss: 9.2587 - val_loss: 10.9010\n",
            "Epoch 95/100\n",
            "8/8 [==============================] - 0s 12ms/step - loss: 9.1059 - val_loss: 10.7856\n",
            "Epoch 96/100\n",
            "8/8 [==============================] - 0s 12ms/step - loss: 9.0296 - val_loss: 10.7547\n",
            "Epoch 97/100\n",
            "8/8 [==============================] - 0s 12ms/step - loss: 8.9343 - val_loss: 10.5069\n",
            "Epoch 98/100\n",
            "8/8 [==============================] - 0s 11ms/step - loss: 8.7553 - val_loss: 10.4129\n",
            "Epoch 99/100\n",
            "8/8 [==============================] - 0s 15ms/step - loss: 8.6379 - val_loss: 10.2802\n",
            "Epoch 100/100\n",
            "8/8 [==============================] - 0s 20ms/step - loss: 8.5249 - val_loss: 10.1140\n"
          ]
        }
      ]
    },
    {
      "cell_type": "code",
      "source": [
        "history.history"
      ],
      "metadata": {
        "id": "_JXe6-RyTIOo",
        "outputId": "05d9fc73-db99-4952-9226-6cb8a3441235",
        "colab": {
          "base_uri": "https://localhost:8080/"
        }
      },
      "execution_count": 31,
      "outputs": [
        {
          "output_type": "execute_result",
          "data": {
            "text/plain": [
              "{'loss': [1708.9471435546875,\n",
              "  1681.719970703125,\n",
              "  1654.9014892578125,\n",
              "  1627.69970703125,\n",
              "  1600.722412109375,\n",
              "  1573.7139892578125,\n",
              "  1546.6768798828125,\n",
              "  1519.6566162109375,\n",
              "  1492.401611328125,\n",
              "  1465.4615478515625,\n",
              "  1438.4481201171875,\n",
              "  1411.361572265625,\n",
              "  1384.323486328125,\n",
              "  1357.2947998046875,\n",
              "  1330.285400390625,\n",
              "  1303.260498046875,\n",
              "  1276.1739501953125,\n",
              "  1249.185546875,\n",
              "  1222.052734375,\n",
              "  1195.2852783203125,\n",
              "  1167.953857421875,\n",
              "  1140.9503173828125,\n",
              "  1114.062744140625,\n",
              "  1087.0782470703125,\n",
              "  1059.91357421875,\n",
              "  1032.926025390625,\n",
              "  1006.0658569335938,\n",
              "  978.7433471679688,\n",
              "  951.843505859375,\n",
              "  924.8939819335938,\n",
              "  897.7987670898438,\n",
              "  870.8126220703125,\n",
              "  843.5719604492188,\n",
              "  816.7635498046875,\n",
              "  789.4586791992188,\n",
              "  762.6209716796875,\n",
              "  735.650146484375,\n",
              "  708.5391845703125,\n",
              "  681.4696044921875,\n",
              "  654.2318115234375,\n",
              "  627.4512329101562,\n",
              "  600.3369140625,\n",
              "  573.357666015625,\n",
              "  546.2547607421875,\n",
              "  519.297119140625,\n",
              "  492.2216796875,\n",
              "  464.9476318359375,\n",
              "  438.04229736328125,\n",
              "  411.0637512207031,\n",
              "  383.918701171875,\n",
              "  357.03973388671875,\n",
              "  329.7332458496094,\n",
              "  302.9798278808594,\n",
              "  275.9203186035156,\n",
              "  248.51023864746094,\n",
              "  221.56954956054688,\n",
              "  194.62490844726562,\n",
              "  167.6220703125,\n",
              "  140.69219970703125,\n",
              "  113.36713409423828,\n",
              "  86.53885650634766,\n",
              "  59.35907745361328,\n",
              "  32.50162887573242,\n",
              "  14.254925727844238,\n",
              "  13.981521606445312,\n",
              "  14.45995044708252,\n",
              "  12.989445686340332,\n",
              "  12.186058044433594,\n",
              "  12.31893539428711,\n",
              "  12.16580581665039,\n",
              "  11.91659164428711,\n",
              "  11.823929786682129,\n",
              "  11.735079765319824,\n",
              "  11.630121231079102,\n",
              "  11.495909690856934,\n",
              "  11.370879173278809,\n",
              "  11.253616333007812,\n",
              "  11.154152870178223,\n",
              "  11.023910522460938,\n",
              "  10.90388298034668,\n",
              "  10.778939247131348,\n",
              "  10.686854362487793,\n",
              "  10.571314811706543,\n",
              "  10.422350883483887,\n",
              "  10.317617416381836,\n",
              "  10.208367347717285,\n",
              "  10.06370735168457,\n",
              "  9.950963973999023,\n",
              "  9.847248077392578,\n",
              "  9.708571434020996,\n",
              "  9.58436393737793,\n",
              "  9.459805488586426,\n",
              "  9.349601745605469,\n",
              "  9.258671760559082,\n",
              "  9.10587215423584,\n",
              "  9.02962875366211,\n",
              "  8.934300422668457,\n",
              "  8.755282402038574,\n",
              "  8.637893676757812,\n",
              "  8.524890899658203],\n",
              " 'val_loss': [1705.3507080078125,\n",
              "  1678.17529296875,\n",
              "  1650.8631591796875,\n",
              "  1623.6678466796875,\n",
              "  1596.4107666015625,\n",
              "  1569.1566162109375,\n",
              "  1541.9141845703125,\n",
              "  1514.6671142578125,\n",
              "  1487.5419921875,\n",
              "  1460.3238525390625,\n",
              "  1433.0565185546875,\n",
              "  1405.7906494140625,\n",
              "  1378.54931640625,\n",
              "  1351.2860107421875,\n",
              "  1323.9962158203125,\n",
              "  1296.716064453125,\n",
              "  1269.517822265625,\n",
              "  1242.30712890625,\n",
              "  1215.1805419921875,\n",
              "  1187.8538818359375,\n",
              "  1160.767822265625,\n",
              "  1133.6278076171875,\n",
              "  1106.3751220703125,\n",
              "  1079.094970703125,\n",
              "  1051.922607421875,\n",
              "  1024.7398681640625,\n",
              "  997.4254150390625,\n",
              "  970.32763671875,\n",
              "  943.0762329101562,\n",
              "  915.78955078125,\n",
              "  888.5560302734375,\n",
              "  861.2886962890625,\n",
              "  834.1849365234375,\n",
              "  806.90087890625,\n",
              "  779.80078125,\n",
              "  752.51416015625,\n",
              "  725.1752319335938,\n",
              "  697.944580078125,\n",
              "  670.7669677734375,\n",
              "  643.7312622070312,\n",
              "  616.485595703125,\n",
              "  589.2697143554688,\n",
              "  561.9876098632812,\n",
              "  534.7352294921875,\n",
              "  507.41107177734375,\n",
              "  480.125244140625,\n",
              "  453.019287109375,\n",
              "  425.8138122558594,\n",
              "  398.543212890625,\n",
              "  371.3351135253906,\n",
              "  344.0013122558594,\n",
              "  316.8535461425781,\n",
              "  289.486083984375,\n",
              "  262.14971923828125,\n",
              "  235.1109619140625,\n",
              "  207.96090698242188,\n",
              "  180.7459259033203,\n",
              "  153.4752960205078,\n",
              "  126.12706756591797,\n",
              "  99.02354431152344,\n",
              "  71.74037170410156,\n",
              "  44.55027770996094,\n",
              "  20.11983871459961,\n",
              "  15.408831596374512,\n",
              "  17.059459686279297,\n",
              "  15.992058753967285,\n",
              "  14.6422758102417,\n",
              "  14.512794494628906,\n",
              "  14.441659927368164,\n",
              "  14.238309860229492,\n",
              "  14.087370872497559,\n",
              "  13.95662784576416,\n",
              "  13.821005821228027,\n",
              "  13.702717781066895,\n",
              "  13.564212799072266,\n",
              "  13.434483528137207,\n",
              "  13.305723190307617,\n",
              "  13.171892166137695,\n",
              "  13.036521911621094,\n",
              "  12.899072647094727,\n",
              "  12.759940147399902,\n",
              "  12.612432479858398,\n",
              "  12.48714542388916,\n",
              "  12.347156524658203,\n",
              "  12.206332206726074,\n",
              "  12.054403305053711,\n",
              "  11.917768478393555,\n",
              "  11.780149459838867,\n",
              "  11.62237548828125,\n",
              "  11.49726390838623,\n",
              "  11.357802391052246,\n",
              "  11.229768753051758,\n",
              "  11.080785751342773,\n",
              "  10.90103816986084,\n",
              "  10.78564739227295,\n",
              "  10.754734992980957,\n",
              "  10.506948471069336,\n",
              "  10.412918090820312,\n",
              "  10.280205726623535,\n",
              "  10.113971710205078]}"
            ]
          },
          "metadata": {},
          "execution_count": 31
        }
      ]
    },
    {
      "cell_type": "code",
      "metadata": {
        "id": "4sWO3W0koYgu",
        "outputId": "fda9a8df-274e-4dc6-bab1-55be2e63f516",
        "colab": {
          "base_uri": "https://localhost:8080/",
          "height": 610
        }
      },
      "source": [
        "plot_loss(history)"
      ],
      "execution_count": 32,
      "outputs": [
        {
          "output_type": "display_data",
          "data": {
            "text/plain": [
              "<Figure size 1440x720 with 1 Axes>"
            ],
            "image/png": "[encoded data removed]"
          },
          "metadata": {
            "needs_background": "light"
          }
        }
      ]
    },
    {
      "cell_type": "markdown",
      "metadata": {
        "id": "mRklxK5s388r"
      },
      "source": [
        "## Adding Normalization\n",
        "\n",
        "In the table of statistics it's easy to see how different the ranges of each feature are:"
      ]
    },
    {
      "cell_type": "code",
      "metadata": {
        "id": "IcmY6lKKbkw8"
      },
      "source": [
        "train_dataset.describe().transpose()[['mean', 'std']]"
      ],
      "execution_count": null,
      "outputs": []
    },
    {
      "cell_type": "markdown",
      "metadata": {
        "id": "aFJ6ISropeoo"
      },
      "source": [
        "### The Normalization layer\n",
        "\n",
        "The `tf.keras.layers.Normalization` is a clean and simple way to add feature normalization into your model.\n",
        "\n",
        "The first step is to create the layer:"
      ]
    },
    {
      "cell_type": "code",
      "metadata": {
        "id": "JlC5ooJrgjQF"
      },
      "source": [
        "normalizer = tf.keras.layers.Normalization(axis=-1)"
      ],
      "execution_count": 33,
      "outputs": []
    },
    {
      "cell_type": "markdown",
      "metadata": {
        "id": "XYA2Ap6nVOha"
      },
      "source": [
        "Then, fit the state of the preprocessing layer to the data by calling `Normalization.adapt`:"
      ]
    },
    {
      "cell_type": "code",
      "metadata": {
        "id": "CrBbbjbwV91f"
      },
      "source": [
        "normalizer.adapt(np.array(X_train))"
      ],
      "execution_count": 34,
      "outputs": []
    },
    {
      "cell_type": "markdown",
      "metadata": {
        "id": "oZccMR5yV9YV"
      },
      "source": [
        "Calculate the mean and variance:"
      ]
    },
    {
      "cell_type": "code",
      "metadata": {
        "id": "GGn-ukwxSPtx",
        "outputId": "3b3d4b56-283e-40f7-8e16-34b8fe5968fd",
        "colab": {
          "base_uri": "https://localhost:8080/"
        }
      },
      "source": [
        "print(normalizer.mean, normalizer.variance, normalizer.count)"
      ],
      "execution_count": 35,
      "outputs": [
        {
          "output_type": "stream",
          "name": "stdout",
          "text": [
            "tf.Tensor(\n",
            "[[   5.478  195.318  104.869 2990.252   15.559   75.898    0.178    0.197\n",
            "     0.624]], shape=(1, 9), dtype=float32) tf.Tensor(\n",
            "[[     2.88   10850.413   1446.699 709896.9        7.755     13.467\n",
            "       0.147      0.158      0.235]], shape=(1, 9), dtype=float32) <tf.Variable 'count:0' shape=() dtype=int64, numpy=314>\n"
          ]
        }
      ]
    },
    {
      "cell_type": "markdown",
      "metadata": {
        "id": "oGWKaF9GSRuN"
      },
      "source": [
        "When the layer is called, it returns the input data, with each feature independently normalized:"
      ]
    },
    {
      "cell_type": "code",
      "metadata": {
        "id": "2l7zFL_XWIRu"
      },
      "source": [
        "first = np.array(X_train[:1])\n",
        "\n",
        "with np.printoptions(precision=2, suppress=True):\n",
        "  print('First example:', first)\n",
        "  print()\n",
        "  print('Normalized:', normalizer(first).numpy())"
      ],
      "execution_count": null,
      "outputs": []
    },
    {
      "cell_type": "markdown",
      "source": [
        "Create the model with normalization layer"
      ],
      "metadata": {
        "id": "o1pSRFAXnT6a"
      }
    },
    {
      "cell_type": "code",
      "source": [
        "linear_model = tf.keras.Sequential([\n",
        "    normalizer,\n",
        "    layers.Dense(units=1, activation=None)\n",
        "])"
      ],
      "metadata": {
        "id": "NNS3dLVWnefw"
      },
      "execution_count": 36,
      "outputs": []
    },
    {
      "cell_type": "code",
      "source": [
        "linear_model.summary()"
      ],
      "metadata": {
        "id": "MJnYW1-pXhv-",
        "outputId": "dafa6a23-dd90-4c5d-8d36-11551e2e0dab",
        "colab": {
          "base_uri": "https://localhost:8080/"
        }
      },
      "execution_count": 37,
      "outputs": [
        {
          "output_type": "stream",
          "name": "stdout",
          "text": [
            "Model: \"sequential_2\"\n",
            "_________________________________________________________________\n",
            " Layer (type)                Output Shape              Param #   \n",
            "=================================================================\n",
            " normalization (Normalizatio  (None, 9)                19        \n",
            " n)                                                              \n",
            "                                                                 \n",
            " dense_2 (Dense)             (None, 1)                 10        \n",
            "                                                                 \n",
            "=================================================================\n",
            "Total params: 29\n",
            "Trainable params: 10\n",
            "Non-trainable params: 19\n",
            "_________________________________________________________________\n"
          ]
        }
      ]
    },
    {
      "cell_type": "markdown",
      "source": [
        "Compile the model"
      ],
      "metadata": {
        "id": "A3qfmLv8nfrz"
      }
    },
    {
      "cell_type": "code",
      "source": [
        "linear_model.compile(\n",
        "    optimizer=tf.optimizers.Adam(learning_rate=0.1),\n",
        "    loss='mean_absolute_error',\n",
        "    metrics=None,\n",
        "    weighted_metrics=None,\n",
        "    loss_weights=None)"
      ],
      "metadata": {
        "id": "wF9KVzeAnefx"
      },
      "execution_count": 38,
      "outputs": []
    },
    {
      "cell_type": "markdown",
      "source": [
        "Train the model"
      ],
      "metadata": {
        "id": "gp3z4pSunkgh"
      }
    },
    {
      "cell_type": "code",
      "source": [
        "history = linear_model.fit(\n",
        "    x=X_train,\n",
        "    y=y_train,\n",
        "    batch_size=None,\n",
        "    epochs=100,\n",
        "    verbose=1, # logging\n",
        "    validation_split = 0.2 # Calculate validation results on 20% of the training data\n",
        "    )"
      ],
      "metadata": {
        "id": "lb3SnlcznmEE",
        "outputId": "672cdc2e-caed-4d75-ceac-25b54fafd235",
        "colab": {
          "base_uri": "https://localhost:8080/"
        }
      },
      "execution_count": 39,
      "outputs": [
        {
          "output_type": "stream",
          "name": "stdout",
          "text": [
            "Epoch 1/100\n",
            "8/8 [==============================] - 0s 20ms/step - loss: 22.9356 - val_loss: 22.8764\n",
            "Epoch 2/100\n",
            "8/8 [==============================] - 0s 5ms/step - loss: 22.0952 - val_loss: 22.1702\n",
            "Epoch 3/100\n",
            "8/8 [==============================] - 0s 6ms/step - loss: 21.2592 - val_loss: 21.4145\n",
            "Epoch 4/100\n",
            "8/8 [==============================] - 0s 5ms/step - loss: 20.4495 - val_loss: 20.7238\n",
            "Epoch 5/100\n",
            "8/8 [==============================] - 0s 7ms/step - loss: 19.6176 - val_loss: 20.0123\n",
            "Epoch 6/100\n",
            "8/8 [==============================] - 0s 5ms/step - loss: 18.7916 - val_loss: 19.2805\n",
            "Epoch 7/100\n",
            "8/8 [==============================] - 0s 5ms/step - loss: 18.0057 - val_loss: 18.5748\n",
            "Epoch 8/100\n",
            "8/8 [==============================] - 0s 6ms/step - loss: 17.1713 - val_loss: 17.8730\n",
            "Epoch 9/100\n",
            "8/8 [==============================] - 0s 6ms/step - loss: 16.3562 - val_loss: 17.1107\n",
            "Epoch 10/100\n",
            "8/8 [==============================] - 0s 8ms/step - loss: 15.5558 - val_loss: 16.3920\n",
            "Epoch 11/100\n",
            "8/8 [==============================] - 0s 6ms/step - loss: 14.7265 - val_loss: 15.6417\n",
            "Epoch 12/100\n",
            "8/8 [==============================] - 0s 6ms/step - loss: 13.9347 - val_loss: 14.9146\n",
            "Epoch 13/100\n",
            "8/8 [==============================] - 0s 6ms/step - loss: 13.1182 - val_loss: 14.1752\n",
            "Epoch 14/100\n",
            "8/8 [==============================] - 0s 7ms/step - loss: 12.3254 - val_loss: 13.5098\n",
            "Epoch 15/100\n",
            "8/8 [==============================] - 0s 5ms/step - loss: 11.4984 - val_loss: 12.7542\n",
            "Epoch 16/100\n",
            "8/8 [==============================] - 0s 5ms/step - loss: 10.7271 - val_loss: 11.9931\n",
            "Epoch 17/100\n",
            "8/8 [==============================] - 0s 6ms/step - loss: 9.9425 - val_loss: 11.2355\n",
            "Epoch 18/100\n",
            "8/8 [==============================] - 0s 6ms/step - loss: 9.1310 - val_loss: 10.5569\n",
            "Epoch 19/100\n",
            "8/8 [==============================] - 0s 6ms/step - loss: 8.3995 - val_loss: 9.9038\n",
            "Epoch 20/100\n",
            "8/8 [==============================] - 0s 6ms/step - loss: 7.6895 - val_loss: 9.0889\n",
            "Epoch 21/100\n",
            "8/8 [==============================] - 0s 5ms/step - loss: 6.9602 - val_loss: 8.4214\n",
            "Epoch 22/100\n",
            "8/8 [==============================] - 0s 5ms/step - loss: 6.3603 - val_loss: 7.7402\n",
            "Epoch 23/100\n",
            "8/8 [==============================] - 0s 5ms/step - loss: 5.7792 - val_loss: 7.2280\n",
            "Epoch 24/100\n",
            "8/8 [==============================] - 0s 5ms/step - loss: 5.2758 - val_loss: 6.6494\n",
            "Epoch 25/100\n",
            "8/8 [==============================] - 0s 5ms/step - loss: 4.8114 - val_loss: 5.8991\n",
            "Epoch 26/100\n",
            "8/8 [==============================] - 0s 6ms/step - loss: 4.4105 - val_loss: 5.1269\n",
            "Epoch 27/100\n",
            "8/8 [==============================] - 0s 5ms/step - loss: 3.9375 - val_loss: 4.5335\n",
            "Epoch 28/100\n",
            "8/8 [==============================] - 0s 5ms/step - loss: 3.5356 - val_loss: 4.1284\n",
            "Epoch 29/100\n",
            "8/8 [==============================] - 0s 5ms/step - loss: 3.1879 - val_loss: 3.4321\n",
            "Epoch 30/100\n",
            "8/8 [==============================] - 0s 5ms/step - loss: 2.9469 - val_loss: 3.0144\n",
            "Epoch 31/100\n",
            "8/8 [==============================] - 0s 6ms/step - loss: 2.7940 - val_loss: 2.9920\n",
            "Epoch 32/100\n",
            "8/8 [==============================] - 0s 5ms/step - loss: 2.6762 - val_loss: 2.7479\n",
            "Epoch 33/100\n",
            "8/8 [==============================] - 0s 5ms/step - loss: 2.6327 - val_loss: 2.6743\n",
            "Epoch 34/100\n",
            "8/8 [==============================] - 0s 6ms/step - loss: 2.5506 - val_loss: 2.7419\n",
            "Epoch 35/100\n",
            "8/8 [==============================] - 0s 5ms/step - loss: 2.5231 - val_loss: 2.6064\n",
            "Epoch 36/100\n",
            "8/8 [==============================] - 0s 5ms/step - loss: 2.5320 - val_loss: 2.5952\n",
            "Epoch 37/100\n",
            "8/8 [==============================] - 0s 5ms/step - loss: 2.5076 - val_loss: 2.5199\n",
            "Epoch 38/100\n",
            "8/8 [==============================] - 0s 5ms/step - loss: 2.5142 - val_loss: 2.5248\n",
            "Epoch 39/100\n",
            "8/8 [==============================] - 0s 6ms/step - loss: 2.4792 - val_loss: 2.5941\n",
            "Epoch 40/100\n",
            "8/8 [==============================] - 0s 6ms/step - loss: 2.5179 - val_loss: 2.5177\n",
            "Epoch 41/100\n",
            "8/8 [==============================] - 0s 8ms/step - loss: 2.4918 - val_loss: 2.4944\n",
            "Epoch 42/100\n",
            "8/8 [==============================] - 0s 5ms/step - loss: 2.4869 - val_loss: 2.4888\n",
            "Epoch 43/100\n",
            "8/8 [==============================] - 0s 5ms/step - loss: 2.4719 - val_loss: 2.5128\n",
            "Epoch 44/100\n",
            "8/8 [==============================] - 0s 5ms/step - loss: 2.4624 - val_loss: 2.4760\n",
            "Epoch 45/100\n",
            "8/8 [==============================] - 0s 5ms/step - loss: 2.4853 - val_loss: 2.5269\n",
            "Epoch 46/100\n",
            "8/8 [==============================] - 0s 5ms/step - loss: 2.5041 - val_loss: 2.4715\n",
            "Epoch 47/100\n",
            "8/8 [==============================] - 0s 6ms/step - loss: 2.4984 - val_loss: 2.5183\n",
            "Epoch 48/100\n",
            "8/8 [==============================] - 0s 6ms/step - loss: 2.4843 - val_loss: 2.4699\n",
            "Epoch 49/100\n",
            "8/8 [==============================] - 0s 5ms/step - loss: 2.5115 - val_loss: 2.5029\n",
            "Epoch 50/100\n",
            "8/8 [==============================] - 0s 5ms/step - loss: 2.4970 - val_loss: 2.4895\n",
            "Epoch 51/100\n",
            "8/8 [==============================] - 0s 5ms/step - loss: 2.4597 - val_loss: 2.5071\n",
            "Epoch 52/100\n",
            "8/8 [==============================] - 0s 6ms/step - loss: 2.4812 - val_loss: 2.4736\n",
            "Epoch 53/100\n",
            "8/8 [==============================] - 0s 6ms/step - loss: 2.4859 - val_loss: 2.4809\n",
            "Epoch 54/100\n",
            "8/8 [==============================] - 0s 5ms/step - loss: 2.4783 - val_loss: 2.4825\n",
            "Epoch 55/100\n",
            "8/8 [==============================] - 0s 6ms/step - loss: 2.4787 - val_loss: 2.4709\n",
            "Epoch 56/100\n",
            "8/8 [==============================] - 0s 6ms/step - loss: 2.4732 - val_loss: 2.4761\n",
            "Epoch 57/100\n",
            "8/8 [==============================] - 0s 5ms/step - loss: 2.4741 - val_loss: 2.4788\n",
            "Epoch 58/100\n",
            "8/8 [==============================] - 0s 6ms/step - loss: 2.4761 - val_loss: 2.4712\n",
            "Epoch 59/100\n",
            "8/8 [==============================] - 0s 5ms/step - loss: 2.4686 - val_loss: 2.4674\n",
            "Epoch 60/100\n",
            "8/8 [==============================] - 0s 5ms/step - loss: 2.4818 - val_loss: 2.4653\n",
            "Epoch 61/100\n",
            "8/8 [==============================] - 0s 5ms/step - loss: 2.4855 - val_loss: 2.4722\n",
            "Epoch 62/100\n",
            "8/8 [==============================] - 0s 6ms/step - loss: 2.4899 - val_loss: 2.4590\n",
            "Epoch 63/100\n",
            "8/8 [==============================] - 0s 6ms/step - loss: 2.4768 - val_loss: 2.4774\n",
            "Epoch 64/100\n",
            "8/8 [==============================] - 0s 6ms/step - loss: 2.4702 - val_loss: 2.4687\n",
            "Epoch 65/100\n",
            "8/8 [==============================] - 0s 5ms/step - loss: 2.4751 - val_loss: 2.5388\n",
            "Epoch 66/100\n",
            "8/8 [==============================] - 0s 5ms/step - loss: 2.4795 - val_loss: 2.4713\n",
            "Epoch 67/100\n",
            "8/8 [==============================] - 0s 5ms/step - loss: 2.5274 - val_loss: 2.4731\n",
            "Epoch 68/100\n",
            "8/8 [==============================] - 0s 5ms/step - loss: 2.4747 - val_loss: 2.5110\n",
            "Epoch 69/100\n",
            "8/8 [==============================] - 0s 6ms/step - loss: 2.4906 - val_loss: 2.4855\n",
            "Epoch 70/100\n",
            "8/8 [==============================] - 0s 6ms/step - loss: 2.4770 - val_loss: 2.4994\n",
            "Epoch 71/100\n",
            "8/8 [==============================] - 0s 6ms/step - loss: 2.4808 - val_loss: 2.4821\n",
            "Epoch 72/100\n",
            "8/8 [==============================] - 0s 5ms/step - loss: 2.4777 - val_loss: 2.4916\n",
            "Epoch 73/100\n",
            "8/8 [==============================] - 0s 5ms/step - loss: 2.4909 - val_loss: 2.4779\n",
            "Epoch 74/100\n",
            "8/8 [==============================] - 0s 5ms/step - loss: 2.4765 - val_loss: 2.4966\n",
            "Epoch 75/100\n",
            "8/8 [==============================] - 0s 6ms/step - loss: 2.4785 - val_loss: 2.4711\n",
            "Epoch 76/100\n",
            "8/8 [==============================] - 0s 5ms/step - loss: 2.4948 - val_loss: 2.5273\n",
            "Epoch 77/100\n",
            "8/8 [==============================] - 0s 5ms/step - loss: 2.4683 - val_loss: 2.4619\n",
            "Epoch 78/100\n",
            "8/8 [==============================] - 0s 5ms/step - loss: 2.4789 - val_loss: 2.5157\n",
            "Epoch 79/100\n",
            "8/8 [==============================] - 0s 6ms/step - loss: 2.4860 - val_loss: 2.4920\n",
            "Epoch 80/100\n",
            "8/8 [==============================] - 0s 5ms/step - loss: 2.4847 - val_loss: 2.4810\n",
            "Epoch 81/100\n",
            "8/8 [==============================] - 0s 5ms/step - loss: 2.5131 - val_loss: 2.4557\n",
            "Epoch 82/100\n",
            "8/8 [==============================] - 0s 5ms/step - loss: 2.5276 - val_loss: 2.4523\n",
            "Epoch 83/100\n",
            "8/8 [==============================] - 0s 6ms/step - loss: 2.4921 - val_loss: 2.4934\n",
            "Epoch 84/100\n",
            "8/8 [==============================] - 0s 5ms/step - loss: 2.4799 - val_loss: 2.4809\n",
            "Epoch 85/100\n",
            "8/8 [==============================] - 0s 5ms/step - loss: 2.4687 - val_loss: 2.4648\n",
            "Epoch 86/100\n",
            "8/8 [==============================] - 0s 5ms/step - loss: 2.4710 - val_loss: 2.4802\n",
            "Epoch 87/100\n",
            "8/8 [==============================] - 0s 5ms/step - loss: 2.4887 - val_loss: 2.4583\n",
            "Epoch 88/100\n",
            "8/8 [==============================] - 0s 5ms/step - loss: 2.4769 - val_loss: 2.4749\n",
            "Epoch 89/100\n",
            "8/8 [==============================] - 0s 6ms/step - loss: 2.4616 - val_loss: 2.4597\n",
            "Epoch 90/100\n",
            "8/8 [==============================] - 0s 5ms/step - loss: 2.4920 - val_loss: 2.4715\n",
            "Epoch 91/100\n",
            "8/8 [==============================] - 0s 5ms/step - loss: 2.4923 - val_loss: 2.4403\n",
            "Epoch 92/100\n",
            "8/8 [==============================] - 0s 5ms/step - loss: 2.4766 - val_loss: 2.4657\n",
            "Epoch 93/100\n",
            "8/8 [==============================] - 0s 5ms/step - loss: 2.4739 - val_loss: 2.4615\n",
            "Epoch 94/100\n",
            "8/8 [==============================] - 0s 6ms/step - loss: 2.4787 - val_loss: 2.4462\n",
            "Epoch 95/100\n",
            "8/8 [==============================] - 0s 6ms/step - loss: 2.4785 - val_loss: 2.4759\n",
            "Epoch 96/100\n",
            "8/8 [==============================] - 0s 5ms/step - loss: 2.4744 - val_loss: 2.4847\n",
            "Epoch 97/100\n",
            "8/8 [==============================] - 0s 5ms/step - loss: 2.4693 - val_loss: 2.4853\n",
            "Epoch 98/100\n",
            "8/8 [==============================] - 0s 5ms/step - loss: 2.4736 - val_loss: 2.4598\n",
            "Epoch 99/100\n",
            "8/8 [==============================] - 0s 7ms/step - loss: 2.4839 - val_loss: 2.4872\n",
            "Epoch 100/100\n",
            "8/8 [==============================] - 0s 6ms/step - loss: 2.4726 - val_loss: 2.4716\n"
          ]
        }
      ]
    },
    {
      "cell_type": "code",
      "source": [
        "plot_loss(history)"
      ],
      "metadata": {
        "id": "Ukz36mR-np46",
        "outputId": "65877b80-234d-440a-92d1-2893d62ddf1c",
        "colab": {
          "base_uri": "https://localhost:8080/",
          "height": 610
        }
      },
      "execution_count": 40,
      "outputs": [
        {
          "output_type": "display_data",
          "data": {
            "text/plain": [
              "<Figure size 1440x720 with 1 Axes>"
            ],
            "image/png": "[encoded data removed]"
          },
          "metadata": {
            "needs_background": "light"
          }
        }
      ]
    },
    {
      "cell_type": "markdown",
      "source": [
        "Evaluate the model"
      ],
      "metadata": {
        "id": "xfNU4SiRn4fN"
      }
    },
    {
      "cell_type": "code",
      "source": [
        "linear_model.evaluate(X_test, y_test, verbose=0)"
      ],
      "metadata": {
        "id": "h9MOkFpTn2jM",
        "outputId": "9508be7a-98d9-4606-fa6c-9a84c0f5591a",
        "colab": {
          "base_uri": "https://localhost:8080/"
        }
      },
      "execution_count": 41,
      "outputs": [
        {
          "output_type": "execute_result",
          "data": {
            "text/plain": [
              "2.4513776302337646"
            ]
          },
          "metadata": {},
          "execution_count": 41
        }
      ]
    },
    {
      "cell_type": "markdown",
      "metadata": {
        "id": "NyN49hIWe_NH"
      },
      "source": [
        "Collect the results on the test set for later:"
      ]
    },
    {
      "cell_type": "code",
      "metadata": {
        "id": "jNC3D1DGsGgK"
      },
      "source": [
        "test_results['linear_model'] = linear_model.evaluate(\n",
        "    X_test, y_test, verbose=0)"
      ],
      "execution_count": 42,
      "outputs": []
    },
    {
      "cell_type": "code",
      "metadata": {
        "id": "NR2VWJKODvR9",
        "outputId": "ab3c0fbb-df4b-480f-b842-932fb21db6d2",
        "colab": {
          "base_uri": "https://localhost:8080/"
        }
      },
      "source": [
        "test_results"
      ],
      "execution_count": 43,
      "outputs": [
        {
          "output_type": "execute_result",
          "data": {
            "text/plain": [
              "{'linear_model': 2.4513776302337646}"
            ]
          },
          "metadata": {},
          "execution_count": 43
        }
      ]
    },
    {
      "cell_type": "markdown",
      "metadata": {
        "id": "SmjdzxKzEu1-"
      },
      "source": [
        "## Regression with a deep neural network (DNN)"
      ]
    },
    {
      "cell_type": "markdown",
      "metadata": {
        "id": "DT_aHPsrzO1t"
      },
      "source": [
        "In the previous section, we implemented linear model.\n",
        "\n",
        "Now we will implement DNN model.\n",
        "\n",
        "The code is basically the same except the model is expanded to include some \"hidden\" non-linear layers. The name \"hidden\" here just means not directly connected to the inputs or outputs."
      ]
    },
    {
      "cell_type": "code",
      "metadata": {
        "id": "c0mhscXh2k36",
        "outputId": "19f41a4d-411d-4bdd-f99d-dee7ef45653f",
        "colab": {
          "base_uri": "https://localhost:8080/"
        }
      },
      "source": [
        "dnn_model = keras.Sequential([\n",
        "      normalizer,\n",
        "      layers.Dense(64, activation='relu'),\n",
        "      layers.Dense(32, activation='relu'),\n",
        "      layers.Dense(1, activation=None)])\n",
        "\n",
        "dnn_model.compile(loss='mean_absolute_error', optimizer=tf.keras.optimizers.Adam(0.001))\n",
        "dnn_model.summary()\n"
      ],
      "execution_count": 44,
      "outputs": [
        {
          "output_type": "stream",
          "name": "stdout",
          "text": [
            "Model: \"sequential_3\"\n",
            "_________________________________________________________________\n",
            " Layer (type)                Output Shape              Param #   \n",
            "=================================================================\n",
            " normalization (Normalizatio  (None, 9)                19        \n",
            " n)                                                              \n",
            "                                                                 \n",
            " dense_3 (Dense)             (None, 64)                640       \n",
            "                                                                 \n",
            " dense_4 (Dense)             (None, 32)                2080      \n",
            "                                                                 \n",
            " dense_5 (Dense)             (None, 1)                 33        \n",
            "                                                                 \n",
            "=================================================================\n",
            "Total params: 2,772\n",
            "Trainable params: 2,753\n",
            "Non-trainable params: 19\n",
            "_________________________________________________________________\n"
          ]
        }
      ]
    },
    {
      "cell_type": "code",
      "metadata": {
        "id": "CXDENACl2tuW",
        "outputId": "3bd62294-4acf-4acd-849a-10753eaf7876",
        "colab": {
          "base_uri": "https://localhost:8080/"
        }
      },
      "source": [
        "history = dnn_model.fit(\n",
        "    X_train,\n",
        "    y_train,\n",
        "    # batch_size=len(train_labels),\n",
        "    validation_split=0.2,\n",
        "    verbose=1, epochs=100)"
      ],
      "execution_count": 51,
      "outputs": [
        {
          "output_type": "stream",
          "name": "stdout",
          "text": [
            "Epoch 1/100\n",
            "8/8 [==============================] - 0s 12ms/step - loss: 1.3313 - val_loss: 2.2156\n",
            "Epoch 2/100\n",
            "8/8 [==============================] - 0s 7ms/step - loss: 1.3241 - val_loss: 2.1775\n",
            "Epoch 3/100\n",
            "8/8 [==============================] - 0s 7ms/step - loss: 1.3133 - val_loss: 2.2034\n",
            "Epoch 4/100\n",
            "8/8 [==============================] - 0s 6ms/step - loss: 1.3179 - val_loss: 2.1539\n",
            "Epoch 5/100\n",
            "8/8 [==============================] - 0s 6ms/step - loss: 1.2849 - val_loss: 2.1959\n",
            "Epoch 6/100\n",
            "8/8 [==============================] - 0s 7ms/step - loss: 1.2843 - val_loss: 2.1855\n",
            "Epoch 7/100\n",
            "8/8 [==============================] - 0s 6ms/step - loss: 1.2994 - val_loss: 2.1508\n",
            "Epoch 8/100\n",
            "8/8 [==============================] - 0s 7ms/step - loss: 1.2972 - val_loss: 2.1935\n",
            "Epoch 9/100\n",
            "8/8 [==============================] - 0s 8ms/step - loss: 1.3075 - val_loss: 2.2077\n",
            "Epoch 10/100\n",
            "8/8 [==============================] - 0s 6ms/step - loss: 1.3349 - val_loss: 2.1976\n",
            "Epoch 11/100\n",
            "8/8 [==============================] - 0s 6ms/step - loss: 1.3217 - val_loss: 2.2034\n",
            "Epoch 12/100\n",
            "8/8 [==============================] - 0s 8ms/step - loss: 1.2992 - val_loss: 2.1985\n",
            "Epoch 13/100\n",
            "8/8 [==============================] - 0s 7ms/step - loss: 1.2812 - val_loss: 2.1915\n",
            "Epoch 14/100\n",
            "8/8 [==============================] - 0s 6ms/step - loss: 1.2858 - val_loss: 2.1980\n",
            "Epoch 15/100\n",
            "8/8 [==============================] - 0s 7ms/step - loss: 1.2830 - val_loss: 2.2129\n",
            "Epoch 16/100\n",
            "8/8 [==============================] - 0s 6ms/step - loss: 1.2884 - val_loss: 2.1894\n",
            "Epoch 17/100\n",
            "8/8 [==============================] - 0s 6ms/step - loss: 1.2992 - val_loss: 2.2253\n",
            "Epoch 18/100\n",
            "8/8 [==============================] - 0s 6ms/step - loss: 1.2689 - val_loss: 2.1666\n",
            "Epoch 19/100\n",
            "8/8 [==============================] - 0s 7ms/step - loss: 1.3016 - val_loss: 2.2065\n",
            "Epoch 20/100\n",
            "8/8 [==============================] - 0s 6ms/step - loss: 1.2761 - val_loss: 2.2018\n",
            "Epoch 21/100\n",
            "8/8 [==============================] - 0s 6ms/step - loss: 1.2989 - val_loss: 2.2018\n",
            "Epoch 22/100\n",
            "8/8 [==============================] - 0s 6ms/step - loss: 1.2812 - val_loss: 2.1848\n",
            "Epoch 23/100\n",
            "8/8 [==============================] - 0s 6ms/step - loss: 1.2813 - val_loss: 2.1743\n",
            "Epoch 24/100\n",
            "8/8 [==============================] - 0s 7ms/step - loss: 1.2751 - val_loss: 2.2118\n",
            "Epoch 25/100\n",
            "8/8 [==============================] - 0s 7ms/step - loss: 1.2923 - val_loss: 2.2022\n",
            "Epoch 26/100\n",
            "8/8 [==============================] - 0s 7ms/step - loss: 1.3384 - val_loss: 2.2098\n",
            "Epoch 27/100\n",
            "8/8 [==============================] - 0s 7ms/step - loss: 1.3049 - val_loss: 2.2037\n",
            "Epoch 28/100\n",
            "8/8 [==============================] - 0s 6ms/step - loss: 1.3075 - val_loss: 2.2280\n",
            "Epoch 29/100\n",
            "8/8 [==============================] - 0s 6ms/step - loss: 1.2931 - val_loss: 2.1596\n",
            "Epoch 30/100\n",
            "8/8 [==============================] - 0s 7ms/step - loss: 1.3110 - val_loss: 2.2165\n",
            "Epoch 31/100\n",
            "8/8 [==============================] - 0s 6ms/step - loss: 1.3243 - val_loss: 2.2473\n",
            "Epoch 32/100\n",
            "8/8 [==============================] - 0s 7ms/step - loss: 1.3060 - val_loss: 2.1684\n",
            "Epoch 33/100\n",
            "8/8 [==============================] - 0s 6ms/step - loss: 1.2949 - val_loss: 2.2071\n",
            "Epoch 34/100\n",
            "8/8 [==============================] - 0s 6ms/step - loss: 1.2960 - val_loss: 2.2407\n",
            "Epoch 35/100\n",
            "8/8 [==============================] - 0s 6ms/step - loss: 1.2718 - val_loss: 2.1904\n",
            "Epoch 36/100\n",
            "8/8 [==============================] - 0s 6ms/step - loss: 1.2740 - val_loss: 2.1891\n",
            "Epoch 37/100\n",
            "8/8 [==============================] - 0s 7ms/step - loss: 1.2670 - val_loss: 2.1882\n",
            "Epoch 38/100\n",
            "8/8 [==============================] - 0s 8ms/step - loss: 1.2647 - val_loss: 2.2028\n",
            "Epoch 39/100\n",
            "8/8 [==============================] - 0s 7ms/step - loss: 1.2610 - val_loss: 2.2150\n",
            "Epoch 40/100\n",
            "8/8 [==============================] - 0s 7ms/step - loss: 1.2553 - val_loss: 2.2026\n",
            "Epoch 41/100\n",
            "8/8 [==============================] - 0s 6ms/step - loss: 1.2700 - val_loss: 2.1638\n",
            "Epoch 42/100\n",
            "8/8 [==============================] - 0s 6ms/step - loss: 1.2651 - val_loss: 2.2079\n",
            "Epoch 43/100\n",
            "8/8 [==============================] - 0s 6ms/step - loss: 1.2938 - val_loss: 2.1983\n",
            "Epoch 44/100\n",
            "8/8 [==============================] - 0s 8ms/step - loss: 1.2652 - val_loss: 2.2068\n",
            "Epoch 45/100\n",
            "8/8 [==============================] - 0s 7ms/step - loss: 1.2578 - val_loss: 2.2022\n",
            "Epoch 46/100\n",
            "8/8 [==============================] - 0s 7ms/step - loss: 1.2532 - val_loss: 2.2011\n",
            "Epoch 47/100\n",
            "8/8 [==============================] - 0s 6ms/step - loss: 1.2548 - val_loss: 2.1782\n",
            "Epoch 48/100\n",
            "8/8 [==============================] - 0s 6ms/step - loss: 1.2614 - val_loss: 2.2335\n",
            "Epoch 49/100\n",
            "8/8 [==============================] - 0s 6ms/step - loss: 1.2699 - val_loss: 2.1949\n",
            "Epoch 50/100\n",
            "8/8 [==============================] - 0s 7ms/step - loss: 1.2551 - val_loss: 2.2036\n",
            "Epoch 51/100\n",
            "8/8 [==============================] - 0s 6ms/step - loss: 1.2629 - val_loss: 2.2238\n",
            "Epoch 52/100\n",
            "8/8 [==============================] - 0s 7ms/step - loss: 1.2583 - val_loss: 2.1785\n",
            "Epoch 53/100\n",
            "8/8 [==============================] - 0s 8ms/step - loss: 1.2740 - val_loss: 2.2364\n",
            "Epoch 54/100\n",
            "8/8 [==============================] - 0s 8ms/step - loss: 1.2577 - val_loss: 2.1585\n",
            "Epoch 55/100\n",
            "8/8 [==============================] - 0s 6ms/step - loss: 1.2686 - val_loss: 2.2101\n",
            "Epoch 56/100\n",
            "8/8 [==============================] - 0s 7ms/step - loss: 1.2645 - val_loss: 2.2035\n",
            "Epoch 57/100\n",
            "8/8 [==============================] - 0s 7ms/step - loss: 1.2690 - val_loss: 2.2264\n",
            "Epoch 58/100\n",
            "8/8 [==============================] - 0s 7ms/step - loss: 1.2664 - val_loss: 2.1799\n",
            "Epoch 59/100\n",
            "8/8 [==============================] - 0s 6ms/step - loss: 1.2721 - val_loss: 2.2495\n",
            "Epoch 60/100\n",
            "8/8 [==============================] - 0s 8ms/step - loss: 1.2484 - val_loss: 2.1807\n",
            "Epoch 61/100\n",
            "8/8 [==============================] - 0s 8ms/step - loss: 1.2470 - val_loss: 2.2000\n",
            "Epoch 62/100\n",
            "8/8 [==============================] - 0s 7ms/step - loss: 1.2566 - val_loss: 2.2168\n",
            "Epoch 63/100\n",
            "8/8 [==============================] - 0s 6ms/step - loss: 1.2673 - val_loss: 2.2058\n",
            "Epoch 64/100\n",
            "8/8 [==============================] - 0s 6ms/step - loss: 1.2614 - val_loss: 2.2289\n",
            "Epoch 65/100\n",
            "8/8 [==============================] - 0s 6ms/step - loss: 1.2485 - val_loss: 2.1850\n",
            "Epoch 66/100\n",
            "8/8 [==============================] - 0s 6ms/step - loss: 1.2476 - val_loss: 2.2016\n",
            "Epoch 67/100\n",
            "8/8 [==============================] - 0s 6ms/step - loss: 1.2576 - val_loss: 2.2256\n",
            "Epoch 68/100\n",
            "8/8 [==============================] - 0s 7ms/step - loss: 1.2694 - val_loss: 2.2058\n",
            "Epoch 69/100\n",
            "8/8 [==============================] - 0s 6ms/step - loss: 1.2578 - val_loss: 2.2271\n",
            "Epoch 70/100\n",
            "8/8 [==============================] - 0s 6ms/step - loss: 1.2438 - val_loss: 2.1783\n",
            "Epoch 71/100\n",
            "8/8 [==============================] - 0s 7ms/step - loss: 1.2541 - val_loss: 2.2068\n",
            "Epoch 72/100\n",
            "8/8 [==============================] - 0s 6ms/step - loss: 1.2570 - val_loss: 2.2171\n",
            "Epoch 73/100\n",
            "8/8 [==============================] - 0s 7ms/step - loss: 1.2608 - val_loss: 2.2525\n",
            "Epoch 74/100\n",
            "8/8 [==============================] - 0s 6ms/step - loss: 1.2549 - val_loss: 2.1858\n",
            "Epoch 75/100\n",
            "8/8 [==============================] - 0s 6ms/step - loss: 1.2506 - val_loss: 2.2387\n",
            "Epoch 76/100\n",
            "8/8 [==============================] - 0s 7ms/step - loss: 1.2642 - val_loss: 2.2075\n",
            "Epoch 77/100\n",
            "8/8 [==============================] - 0s 6ms/step - loss: 1.2412 - val_loss: 2.2357\n",
            "Epoch 78/100\n",
            "8/8 [==============================] - 0s 7ms/step - loss: 1.2488 - val_loss: 2.1850\n",
            "Epoch 79/100\n",
            "8/8 [==============================] - 0s 6ms/step - loss: 1.2713 - val_loss: 2.2223\n",
            "Epoch 80/100\n",
            "8/8 [==============================] - 0s 6ms/step - loss: 1.3087 - val_loss: 2.2644\n",
            "Epoch 81/100\n",
            "8/8 [==============================] - 0s 6ms/step - loss: 1.2837 - val_loss: 2.1799\n",
            "Epoch 82/100\n",
            "8/8 [==============================] - 0s 7ms/step - loss: 1.3102 - val_loss: 2.2327\n",
            "Epoch 83/100\n",
            "8/8 [==============================] - 0s 6ms/step - loss: 1.2871 - val_loss: 2.1804\n",
            "Epoch 84/100\n",
            "8/8 [==============================] - 0s 7ms/step - loss: 1.2715 - val_loss: 2.2107\n",
            "Epoch 85/100\n",
            "8/8 [==============================] - 0s 6ms/step - loss: 1.2585 - val_loss: 2.1942\n",
            "Epoch 86/100\n",
            "8/8 [==============================] - 0s 6ms/step - loss: 1.2464 - val_loss: 2.2084\n",
            "Epoch 87/100\n",
            "8/8 [==============================] - 0s 6ms/step - loss: 1.2421 - val_loss: 2.1998\n",
            "Epoch 88/100\n",
            "8/8 [==============================] - 0s 6ms/step - loss: 1.2456 - val_loss: 2.2070\n",
            "Epoch 89/100\n",
            "8/8 [==============================] - 0s 6ms/step - loss: 1.2492 - val_loss: 2.2341\n",
            "Epoch 90/100\n",
            "8/8 [==============================] - 0s 5ms/step - loss: 1.2353 - val_loss: 2.1667\n",
            "Epoch 91/100\n",
            "8/8 [==============================] - 0s 7ms/step - loss: 1.2630 - val_loss: 2.2354\n",
            "Epoch 92/100\n",
            "8/8 [==============================] - 0s 7ms/step - loss: 1.2663 - val_loss: 2.2174\n",
            "Epoch 93/100\n",
            "8/8 [==============================] - 0s 6ms/step - loss: 1.2553 - val_loss: 2.2142\n",
            "Epoch 94/100\n",
            "8/8 [==============================] - 0s 6ms/step - loss: 1.2516 - val_loss: 2.2012\n",
            "Epoch 95/100\n",
            "8/8 [==============================] - 0s 6ms/step - loss: 1.2344 - val_loss: 2.2241\n",
            "Epoch 96/100\n",
            "8/8 [==============================] - 0s 6ms/step - loss: 1.2478 - val_loss: 2.2169\n",
            "Epoch 97/100\n",
            "8/8 [==============================] - 0s 6ms/step - loss: 1.2318 - val_loss: 2.2226\n",
            "Epoch 98/100\n",
            "8/8 [==============================] - 0s 7ms/step - loss: 1.2405 - val_loss: 2.1982\n",
            "Epoch 99/100\n",
            "8/8 [==============================] - 0s 6ms/step - loss: 1.2476 - val_loss: 2.2031\n",
            "Epoch 100/100\n",
            "8/8 [==============================] - 0s 6ms/step - loss: 1.2591 - val_loss: 2.2403\n"
          ]
        }
      ]
    },
    {
      "cell_type": "code",
      "metadata": {
        "id": "-9Dbj0fX23RQ",
        "outputId": "2cfa2b38-fb80-45cc-bb02-060eb367b931",
        "colab": {
          "base_uri": "https://localhost:8080/",
          "height": 610
        }
      },
      "source": [
        "plot_loss(history)"
      ],
      "execution_count": 52,
      "outputs": [
        {
          "output_type": "display_data",
          "data": {
            "text/plain": [
              "<Figure size 1440x720 with 1 Axes>"
            ],
            "image/png": "[encoded data removed]"
          },
          "metadata": {
            "needs_background": "light"
          }
        }
      ]
    },
    {
      "cell_type": "markdown",
      "metadata": {
        "id": "hWoVYS34fJPZ"
      },
      "source": [
        "Collect the results on the test set:"
      ]
    },
    {
      "cell_type": "code",
      "metadata": {
        "id": "-bZIa96W3c7K"
      },
      "source": [
        "test_results['dnn_model'] = dnn_model.evaluate(X_test, y_test, verbose=0)\n",
        "# dnn_model.evaluate(X_test, y_test)"
      ],
      "execution_count": 53,
      "outputs": []
    },
    {
      "cell_type": "code",
      "metadata": {
        "id": "w4sod_y0G-rU",
        "outputId": "2bea856c-ce70-4319-9a10-a39053feb45d",
        "colab": {
          "base_uri": "https://localhost:8080/"
        }
      },
      "source": [
        "test_results"
      ],
      "execution_count": 54,
      "outputs": [
        {
          "output_type": "execute_result",
          "data": {
            "text/plain": [
              "{'dnn_model': 1.9334204196929932, 'linear_model': 2.4513776302337646}"
            ]
          },
          "metadata": {},
          "execution_count": 54
        }
      ]
    },
    {
      "cell_type": "markdown",
      "metadata": {
        "id": "uiCucdPLfMkZ"
      },
      "source": [
        "## Performance"
      ]
    },
    {
      "cell_type": "markdown",
      "metadata": {
        "id": "rDf1xebEfWBw"
      },
      "source": [
        "Since all models have been trained, you can review their test set performance:"
      ]
    },
    {
      "cell_type": "code",
      "metadata": {
        "id": "e5_ooufM5iH2",
        "outputId": "e1576153-2e9b-4443-864c-0b1442f0f0ca",
        "colab": {
          "base_uri": "https://localhost:8080/",
          "height": 112
        }
      },
      "source": [
        "pd.DataFrame(test_results, index=['Mean absolute error [MPG]']).T"
      ],
      "execution_count": 55,
      "outputs": [
        {
          "output_type": "execute_result",
          "data": {
            "text/plain": [
              "              Mean absolute error [MPG]\n",
              "linear_model                   2.451378\n",
              "dnn_model                      1.933420"
            ],
            "text/html": [
              "\n",
              "  <div id=\"df-39e1893e-c9a5-4691-8285-00b0c609da5d\">\n",
              "    <div class=\"colab-df-container\">\n",
              "      <div>\n",
              "<style scoped>\n",
              "    .dataframe tbody tr th:only-of-type {\n",
              "        vertical-align: middle;\n",
              "    }\n",
              "\n",
              "    .dataframe tbody tr th {\n",
              "        vertical-align: top;\n",
              "    }\n",
              "\n",
              "    .dataframe thead th {\n",
              "        text-align: right;\n",
              "    }\n",
              "</style>\n",
              "<table border=\"1\" class=\"dataframe\">\n",
              "  <thead>\n",
              "    <tr style=\"text-align: right;\">\n",
              "      <th></th>\n",
              "      <th>Mean absolute error [MPG]</th>\n",
              "    </tr>\n",
              "  </thead>\n",
              "  <tbody>\n",
              "    <tr>\n",
              "      <th>linear_model</th>\n",
              "      <td>2.451378</td>\n",
              "    </tr>\n",
              "    <tr>\n",
              "      <th>dnn_model</th>\n",
              "      <td>1.933420</td>\n",
              "    </tr>\n",
              "  </tbody>\n",
              "</table>\n",
              "</div>\n",
              "      <button class=\"colab-df-convert\" onclick=\"convertToInteractive('df-39e1893e-c9a5-4691-8285-00b0c609da5d')\"\n",
              "              title=\"Convert this dataframe to an interactive table.\"\n",
              "              style=\"display:none;\">\n",
              "        \n",
              "  <svg xmlns=\"http://www.w3.org/2000/svg\" height=\"24px\"viewBox=\"0 0 24 24\"\n",
              "       width=\"24px\">\n",
              "    <path d=\"M0 0h24v24H0V0z\" fill=\"none\"/>\n",
              "    <path d=\"M18.56 5.44l.94 2.06.94-2.06 2.06-.94-2.06-.94-.94-2.06-.94 2.06-2.06.94zm-11 1L8.5 8.5l.94-2.06 2.06-.94-2.06-.94L8.5 2.5l-.94 2.06-2.06.94zm10 10l.94 2.06.94-2.06 2.06-.94-2.06-.94-.94-2.06-.94 2.06-2.06.94z\"/><path d=\"M17.41 7.96l-1.37-1.37c-.4-.4-.92-.59-1.43-.59-.52 0-1.04.2-1.43.59L10.3 9.45l-7.72 7.72c-.78.78-.78 2.05 0 2.83L4 21.41c.39.39.9.59 1.41.59.51 0 1.02-.2 1.41-.59l7.78-7.78 2.81-2.81c.8-.78.8-2.07 0-2.86zM5.41 20L4 18.59l7.72-7.72 1.47 1.35L5.41 20z\"/>\n",
              "  </svg>\n",
              "      </button>\n",
              "      \n",
              "  <style>\n",
              "    .colab-df-container {\n",
              "      display:flex;\n",
              "      flex-wrap:wrap;\n",
              "      gap: 12px;\n",
              "    }\n",
              "\n",
              "    .colab-df-convert {\n",
              "      background-color: #E8F0FE;\n",
              "      border: none;\n",
              "      border-radius: 50%;\n",
              "      cursor: pointer;\n",
              "      display: none;\n",
              "      fill: #1967D2;\n",
              "      height: 32px;\n",
              "      padding: 0 0 0 0;\n",
              "      width: 32px;\n",
              "    }\n",
              "\n",
              "    .colab-df-convert:hover {\n",
              "      background-color: #E2EBFA;\n",
              "      box-shadow: 0px 1px 2px rgba(60, 64, 67, 0.3), 0px 1px 3px 1px rgba(60, 64, 67, 0.15);\n",
              "      fill: #174EA6;\n",
              "    }\n",
              "\n",
              "    [theme=dark] .colab-df-convert {\n",
              "      background-color: #3B4455;\n",
              "      fill: #D2E3FC;\n",
              "    }\n",
              "\n",
              "    [theme=dark] .colab-df-convert:hover {\n",
              "      background-color: #434B5C;\n",
              "      box-shadow: 0px 1px 3px 1px rgba(0, 0, 0, 0.15);\n",
              "      filter: drop-shadow(0px 1px 2px rgba(0, 0, 0, 0.3));\n",
              "      fill: #FFFFFF;\n",
              "    }\n",
              "  </style>\n",
              "\n",
              "      <script>\n",
              "        const buttonEl =\n",
              "          document.querySelector('#df-39e1893e-c9a5-4691-8285-00b0c609da5d button.colab-df-convert');\n",
              "        buttonEl.style.display =\n",
              "          google.colab.kernel.accessAllowed ? 'block' : 'none';\n",
              "\n",
              "        async function convertToInteractive(key) {\n",
              "          const element = document.querySelector('#df-39e1893e-c9a5-4691-8285-00b0c609da5d');\n",
              "          const dataTable =\n",
              "            await google.colab.kernel.invokeFunction('convertToInteractive',\n",
              "                                                     [key], {});\n",
              "          if (!dataTable) return;\n",
              "\n",
              "          const docLinkHtml = 'Like what you see? Visit the ' +\n",
              "            '<a target=\"_blank\" href=https://colab.research.google.com/notebooks/data_table.ipynb>data table notebook</a>'\n",
              "            + ' to learn more about interactive tables.';\n",
              "          element.innerHTML = '';\n",
              "          dataTable['output_type'] = 'display_data';\n",
              "          await google.colab.output.renderOutput(dataTable, element);\n",
              "          const docLink = document.createElement('div');\n",
              "          docLink.innerHTML = docLinkHtml;\n",
              "          element.appendChild(docLink);\n",
              "        }\n",
              "      </script>\n",
              "    </div>\n",
              "  </div>\n",
              "  "
            ]
          },
          "metadata": {},
          "execution_count": 55
        }
      ]
    },
    {
      "cell_type": "markdown",
      "metadata": {
        "id": "DABIVzsCf-QI"
      },
      "source": [
        "These results match the validation error observed during training."
      ]
    },
    {
      "cell_type": "markdown",
      "metadata": {
        "id": "ft603OzXuEZC"
      },
      "source": [
        "### Make predictions\n",
        "\n",
        "You can now make predictions with the `dnn_model` on the test set using Keras `Model.predict` and review the loss:"
      ]
    },
    {
      "cell_type": "code",
      "source": [
        "test_predictions = dnn_model.predict(X_test)\n",
        "print(test_predictions[:10])"
      ],
      "metadata": {
        "id": "LKlAbuBnlcwj",
        "outputId": "d54a0f70-0f9b-4f13-9bc7-ec3519534f27",
        "colab": {
          "base_uri": "https://localhost:8080/"
        }
      },
      "execution_count": 56,
      "outputs": [
        {
          "output_type": "stream",
          "name": "stdout",
          "text": [
            "[[14.565]\n",
            " [11.161]\n",
            " [12.189]\n",
            " [24.982]\n",
            " [20.534]\n",
            " [13.203]\n",
            " [13.971]\n",
            " [12.967]\n",
            " [19.485]\n",
            " [30.55 ]]\n"
          ]
        }
      ]
    },
    {
      "cell_type": "code",
      "metadata": {
        "id": "Xe7RXH3N3CWU",
        "outputId": "65413656-22fc-45e4-de12-3600064a6b2e",
        "colab": {
          "base_uri": "https://localhost:8080/",
          "height": 610
        }
      },
      "source": [
        "test_predictions = dnn_model.predict(X_test).flatten()\n",
        "\n",
        "a = plt.axes(aspect='equal')\n",
        "plt.scatter(y_test, test_predictions)\n",
        "plt.xlabel('True Values [MPG]')\n",
        "plt.ylabel('Predictions [MPG]')\n",
        "lims = [0, 50]\n",
        "plt.xlim(lims)\n",
        "plt.ylim(lims)\n",
        "_ = plt.plot(lims, lims)\n"
      ],
      "execution_count": 57,
      "outputs": [
        {
          "output_type": "display_data",
          "data": {
            "text/plain": [
              "<Figure size 1440x720 with 1 Axes>"
            ],
            "image/png": "[encoded data removed]"
          },
          "metadata": {
            "needs_background": "light"
          }
        }
      ]
    },
    {
      "cell_type": "markdown",
      "metadata": {
        "id": "19wyogbOSU5t"
      },
      "source": [
        "It appears that the model predicts reasonably well.\n",
        "\n",
        "Now, check the error distribution:"
      ]
    },
    {
      "cell_type": "code",
      "metadata": {
        "id": "f-OHX4DiXd8x",
        "outputId": "ea93dd7d-8b67-48b6-932d-7e7c2ace0552",
        "colab": {
          "base_uri": "https://localhost:8080/",
          "height": 606
        }
      },
      "source": [
        "error = test_predictions - y_test\n",
        "plt.hist(error, bins=25)\n",
        "plt.xlabel('Prediction Error [MPG]')\n",
        "_ = plt.ylabel('Count')"
      ],
      "execution_count": 58,
      "outputs": [
        {
          "output_type": "display_data",
          "data": {
            "text/plain": [
              "<Figure size 1440x720 with 1 Axes>"
            ],
            "image/png": "[encoded data removed]"
          },
          "metadata": {
            "needs_background": "light"
          }
        }
      ]
    },
    {
      "cell_type": "markdown",
      "metadata": {
        "id": "KSyaHUfDT-mZ"
      },
      "source": [
        "If you're happy with the model, save it for later use with `Model.save`:"
      ]
    },
    {
      "cell_type": "code",
      "metadata": {
        "id": "4-WwLlmfT-mb",
        "outputId": "7f74ce1c-c452-405b-ca15-315b07aaa1f3",
        "colab": {
          "base_uri": "https://localhost:8080/"
        }
      },
      "source": [
        "dnn_model.save('dnn_model')"
      ],
      "execution_count": 59,
      "outputs": [
        {
          "output_type": "stream",
          "name": "stdout",
          "text": [
            "INFO:tensorflow:Assets written to: dnn_model/assets\n"
          ]
        }
      ]
    },
    {
      "cell_type": "markdown",
      "metadata": {
        "id": "Benlnl8UT-me"
      },
      "source": [
        "If you reload the model, it gives identical output:"
      ]
    },
    {
      "cell_type": "code",
      "metadata": {
        "id": "dyyyj2zVT-mf"
      },
      "source": [
        "reloaded = tf.keras.models.load_model('dnn_model')\n",
        "\n",
        "test_results['reloaded'] = reloaded.evaluate(\n",
        "    X_test, y_test, verbose=0)"
      ],
      "execution_count": null,
      "outputs": []
    },
    {
      "cell_type": "code",
      "source": [
        "reloaded.evaluate(X_test, y_test, verbose=0)"
      ],
      "metadata": {
        "id": "g1w9tUZNmmM8"
      },
      "execution_count": null,
      "outputs": []
    },
    {
      "cell_type": "markdown",
      "source": [
        "### You can continue training the reloaded model as well"
      ],
      "metadata": {
        "id": "6GZx9AhgJUJ2"
      }
    },
    {
      "cell_type": "code",
      "source": [
        "history = reloaded.fit(X_train,\n",
        "    y_train,\n",
        "    # batch_size=len(train_labels),\n",
        "    validation_split=0.2,\n",
        "    verbose=1, epochs=10)"
      ],
      "metadata": {
        "id": "2feKSs-Wmqbo"
      },
      "execution_count": null,
      "outputs": []
    },
    {
      "cell_type": "code",
      "source": [
        "plot_loss(history)"
      ],
      "metadata": {
        "id": "yootu4LHm-Hn"
      },
      "execution_count": null,
      "outputs": []
    },
    {
      "cell_type": "code",
      "metadata": {
        "id": "f_GchJ2tg-2o"
      },
      "source": [
        "pd.DataFrame(test_results, index=['Mean absolute error [MPG]']).T"
      ],
      "execution_count": null,
      "outputs": []
    }
  ]
}